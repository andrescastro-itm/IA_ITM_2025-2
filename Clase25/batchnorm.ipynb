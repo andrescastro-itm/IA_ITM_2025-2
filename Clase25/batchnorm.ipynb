{
 "cells": [
  {
   "cell_type": "markdown",
   "metadata": {
    "id": "nVRrCUvu0Saw"
   },
   "source": [
    "Thanks to: Sebastian Raschka (sraschka@wisc.edu)\n",
    "\n",
    "<a href=\"https://colab.research.google.com/github/andrescastro-itm/IA_ITM_2025-2/blob/main/Clase25/batchnorm.ipynb\" target=\"_parent\"><img src=\"https://colab.research.google.com/assets/colab-badge.svg\" alt=\"Open In Colab\"/></a>"
   ]
  },
  {
   "cell_type": "markdown",
   "metadata": {
    "id": "M4bWRp6h0Sa5"
   },
   "source": [
    "# MLP with BatchNorm "
   ]
  },
  {
   "cell_type": "markdown",
   "metadata": {
    "id": "YWVjzk2F0Sa6"
   },
   "source": [
    "## Imports"
   ]
  },
  {
   "cell_type": "code",
   "execution_count": 1,
   "metadata": {
    "executionInfo": {
     "elapsed": 3726,
     "status": "ok",
     "timestamp": 1633103865450,
     "user": {
      "displayName": "Juan David Martinez Vargas",
      "photoUrl": "https://lh3.googleusercontent.com/a/default-user=s64",
      "userId": "10271309777444916336"
     },
     "user_tz": 300
    },
    "id": "RojGLb-W0Sa7"
   },
   "outputs": [],
   "source": [
    "import torch\n",
    "import numpy as np\n",
    "import matplotlib.pyplot as plt"
   ]
  },
  {
   "cell_type": "code",
   "execution_count": 2,
   "metadata": {
    "executionInfo": {
     "elapsed": 367,
     "status": "ok",
     "timestamp": 1633105070023,
     "user": {
      "displayName": "Juan David Martinez Vargas",
      "photoUrl": "https://lh3.googleusercontent.com/a/default-user=s64",
      "userId": "10271309777444916336"
     },
     "user_tz": 300
    },
    "id": "jK28B72G0Sa8"
   },
   "outputs": [],
   "source": [
    "# From local helper files\n",
    "from helper_evaluation import set_all_seeds\n",
    "from helper_train import train_model\n",
    "from helper_plotting import plot_training_loss, plot_accuracy, show_examples\n",
    "from helper_dataset import get_dataloaders_mnist\n",
    "from helper_evaluation import compute_accuracy"
   ]
  },
  {
   "cell_type": "markdown",
   "metadata": {
    "id": "JXr1GuPI0Sa8"
   },
   "source": [
    "## Settings and Dataset"
   ]
  },
  {
   "cell_type": "code",
   "execution_count": 3,
   "metadata": {
    "executionInfo": {
     "elapsed": 354,
     "status": "ok",
     "timestamp": 1633103874574,
     "user": {
      "displayName": "Juan David Martinez Vargas",
      "photoUrl": "https://lh3.googleusercontent.com/a/default-user=s64",
      "userId": "10271309777444916336"
     },
     "user_tz": 300
    },
    "id": "q73QCJKo0Sa9"
   },
   "outputs": [],
   "source": [
    "##########################\n",
    "### SETTINGS\n",
    "##########################\n",
    "\n",
    "RANDOM_SEED = 123\n",
    "BATCH_SIZE = 256\n",
    "NUM_HIDDEN_1 = 75\n",
    "NUM_HIDDEN_2 = 45\n",
    "NUM_EPOCHS = 50\n",
    "DEVICE = torch.device('cuda:0' if torch.cuda.is_available() else 'cpu')"
   ]
  },
  {
   "cell_type": "code",
   "execution_count": 4,
   "metadata": {
    "executionInfo": {
     "elapsed": 374,
     "status": "ok",
     "timestamp": 1633103878698,
     "user": {
      "displayName": "Juan David Martinez Vargas",
      "photoUrl": "https://lh3.googleusercontent.com/a/default-user=s64",
      "userId": "10271309777444916336"
     },
     "user_tz": 300
    },
    "id": "_CPm-dDC0Sa-"
   },
   "outputs": [],
   "source": [
    "set_all_seeds(RANDOM_SEED)\n",
    "#set_deterministic()"
   ]
  },
  {
   "cell_type": "code",
   "execution_count": 5,
   "metadata": {
    "colab": {
     "base_uri": "https://localhost:8080/"
    },
    "executionInfo": {
     "elapsed": 6566,
     "status": "ok",
     "timestamp": 1633103887796,
     "user": {
      "displayName": "Juan David Martinez Vargas",
      "photoUrl": "https://lh3.googleusercontent.com/a/default-user=s64",
      "userId": "10271309777444916336"
     },
     "user_tz": 300
    },
    "id": "fwo0BqjX0Sa_",
    "metadata": {},
    "outputId": "015d9d91-c6f3-419e-95a7-3ffbadf1222e"
   },
   "outputs": [
    {
     "name": "stdout",
     "output_type": "stream",
     "text": [
      "Downloading http://yann.lecun.com/exdb/mnist/train-images-idx3-ubyte.gz\n",
      "Failed to download (trying next):\n",
      "<urlopen error [SSL: CERTIFICATE_VERIFY_FAILED] certificate verify failed: certificate has expired (_ssl.c:1007)>\n",
      "\n",
      "Downloading https://ossci-datasets.s3.amazonaws.com/mnist/train-images-idx3-ubyte.gz\n",
      "Downloading https://ossci-datasets.s3.amazonaws.com/mnist/train-images-idx3-ubyte.gz to data\\MNIST\\raw\\train-images-idx3-ubyte.gz\n"
     ]
    },
    {
     "name": "stderr",
     "output_type": "stream",
     "text": [
      "100%|██████████| 9912422/9912422 [00:04<00:00, 2069076.83it/s]\n"
     ]
    },
    {
     "name": "stdout",
     "output_type": "stream",
     "text": [
      "Extracting data\\MNIST\\raw\\train-images-idx3-ubyte.gz to data\\MNIST\\raw\n",
      "\n",
      "Downloading http://yann.lecun.com/exdb/mnist/train-labels-idx1-ubyte.gz\n",
      "Failed to download (trying next):\n",
      "<urlopen error [SSL: CERTIFICATE_VERIFY_FAILED] certificate verify failed: certificate has expired (_ssl.c:1007)>\n",
      "\n",
      "Downloading https://ossci-datasets.s3.amazonaws.com/mnist/train-labels-idx1-ubyte.gz\n",
      "Downloading https://ossci-datasets.s3.amazonaws.com/mnist/train-labels-idx1-ubyte.gz to data\\MNIST\\raw\\train-labels-idx1-ubyte.gz\n"
     ]
    },
    {
     "name": "stderr",
     "output_type": "stream",
     "text": [
      "100%|██████████| 28881/28881 [00:00<00:00, 408619.62it/s]\n"
     ]
    },
    {
     "name": "stdout",
     "output_type": "stream",
     "text": [
      "Extracting data\\MNIST\\raw\\train-labels-idx1-ubyte.gz to data\\MNIST\\raw\n",
      "\n",
      "Downloading http://yann.lecun.com/exdb/mnist/t10k-images-idx3-ubyte.gz\n",
      "Failed to download (trying next):\n",
      "<urlopen error [SSL: CERTIFICATE_VERIFY_FAILED] certificate verify failed: certificate has expired (_ssl.c:1007)>\n",
      "\n",
      "Downloading https://ossci-datasets.s3.amazonaws.com/mnist/t10k-images-idx3-ubyte.gz\n",
      "Downloading https://ossci-datasets.s3.amazonaws.com/mnist/t10k-images-idx3-ubyte.gz to data\\MNIST\\raw\\t10k-images-idx3-ubyte.gz\n"
     ]
    },
    {
     "name": "stderr",
     "output_type": "stream",
     "text": [
      "100%|██████████| 1648877/1648877 [00:02<00:00, 640216.68it/s]\n"
     ]
    },
    {
     "name": "stdout",
     "output_type": "stream",
     "text": [
      "Extracting data\\MNIST\\raw\\t10k-images-idx3-ubyte.gz to data\\MNIST\\raw\n",
      "\n",
      "Downloading http://yann.lecun.com/exdb/mnist/t10k-labels-idx1-ubyte.gz\n",
      "Failed to download (trying next):\n",
      "<urlopen error [SSL: CERTIFICATE_VERIFY_FAILED] certificate verify failed: certificate has expired (_ssl.c:1007)>\n",
      "\n",
      "Downloading https://ossci-datasets.s3.amazonaws.com/mnist/t10k-labels-idx1-ubyte.gz\n",
      "Downloading https://ossci-datasets.s3.amazonaws.com/mnist/t10k-labels-idx1-ubyte.gz to data\\MNIST\\raw\\t10k-labels-idx1-ubyte.gz\n"
     ]
    },
    {
     "name": "stderr",
     "output_type": "stream",
     "text": [
      "100%|██████████| 4542/4542 [00:00<00:00, 569301.28it/s]\n"
     ]
    },
    {
     "name": "stdout",
     "output_type": "stream",
     "text": [
      "Extracting data\\MNIST\\raw\\t10k-labels-idx1-ubyte.gz to data\\MNIST\\raw\n",
      "\n",
      "Image batch dimensions: torch.Size([256, 1, 28, 28])\n",
      "Image label dimensions: torch.Size([256])\n",
      "Class labels of 10 examples: tensor([4, 5, 8, 9, 9, 4, 9, 9, 3, 9])\n"
     ]
    }
   ],
   "source": [
    "##########################\n",
    "### MNIST DATASET\n",
    "##########################\n",
    "\n",
    "train_loader, valid_loader, test_loader = get_dataloaders_mnist(\n",
    "    batch_size=BATCH_SIZE,\n",
    "    validation_fraction=0.1)\n",
    "\n",
    "# Checking the dataset\n",
    "for images, labels in train_loader:  \n",
    "    print('Image batch dimensions:', images.shape)\n",
    "    print('Image label dimensions:', labels.shape)\n",
    "    print('Class labels of 10 examples:', labels[:10])\n",
    "    break"
   ]
  },
  {
   "cell_type": "markdown",
   "metadata": {
    "id": "SvNzb1wb0SbA"
   },
   "source": [
    "## Model"
   ]
  },
  {
   "cell_type": "code",
   "execution_count": 6,
   "metadata": {
    "executionInfo": {
     "elapsed": 349,
     "status": "ok",
     "timestamp": 1633103892128,
     "user": {
      "displayName": "Juan David Martinez Vargas",
      "photoUrl": "https://lh3.googleusercontent.com/a/default-user=s64",
      "userId": "10271309777444916336"
     },
     "user_tz": 300
    },
    "id": "BOmonpS40SbB"
   },
   "outputs": [],
   "source": [
    "class MultilayerPerceptron(torch.nn.Module):\n",
    "\n",
    "    def __init__(self, num_features, num_classes, drop_proba, \n",
    "                 num_hidden_1, num_hidden_2):\n",
    "        super().__init__()\n",
    "        \n",
    "        self.my_network = torch.nn.Sequential(\n",
    "            # 1st hidden layer\n",
    "            torch.nn.Flatten(),\n",
    "            torch.nn.Linear(num_features, num_hidden_1, bias=False),\n",
    "            torch.nn.BatchNorm1d(num_hidden_1),\n",
    "            torch.nn.ReLU(),\n",
    "            # 2nd hidden layer\n",
    "            torch.nn.Linear(num_hidden_1, num_hidden_2, bias=False),\n",
    "            torch.nn.BatchNorm1d(num_hidden_2),\n",
    "            torch.nn.ReLU(),\n",
    "            # output layer\n",
    "            torch.nn.Linear(num_hidden_2, num_classes)\n",
    "        )\n",
    "           \n",
    "    def forward(self, x):\n",
    "        logits = self.my_network(x)\n",
    "        return logits"
   ]
  },
  {
   "cell_type": "code",
   "execution_count": 7,
   "metadata": {
    "colab": {
     "base_uri": "https://localhost:8080/",
     "height": 1000
    },
    "executionInfo": {
     "elapsed": 750517,
     "status": "ok",
     "timestamp": 1633104645538,
     "user": {
      "displayName": "Juan David Martinez Vargas",
      "photoUrl": "https://lh3.googleusercontent.com/a/default-user=s64",
      "userId": "10271309777444916336"
     },
     "user_tz": 300
    },
    "id": "CQElEzFs0SbC",
    "metadata": {},
    "outputId": "58f8d918-3d96-4157-e3bf-952e4ad9b1a3"
   },
   "outputs": [
    {
     "name": "stdout",
     "output_type": "stream",
     "text": [
      "Epoch: 001/050 | Batch 0000/0210 | Loss: 2.3559\n",
      "Epoch: 001/050 | Batch 0050/0210 | Loss: 0.4216\n",
      "Epoch: 001/050 | Batch 0100/0210 | Loss: 0.3420\n",
      "Epoch: 001/050 | Batch 0150/0210 | Loss: 0.2311\n",
      "Epoch: 001/050 | Batch 0200/0210 | Loss: 0.2121\n",
      "Epoch: 001/050 | Train: 95.71% | Validation: 96.55%\n",
      "Time elapsed: 0.77 min\n",
      "Epoch: 002/050 | Batch 0000/0210 | Loss: 0.1470\n",
      "Epoch: 002/050 | Batch 0050/0210 | Loss: 0.2062\n",
      "Epoch: 002/050 | Batch 0100/0210 | Loss: 0.1265\n",
      "Epoch: 002/050 | Batch 0150/0210 | Loss: 0.1253\n",
      "Epoch: 002/050 | Batch 0200/0210 | Loss: 0.1502\n",
      "Epoch: 002/050 | Train: 97.41% | Validation: 97.32%\n",
      "Time elapsed: 1.53 min\n",
      "Epoch: 003/050 | Batch 0000/0210 | Loss: 0.1052\n",
      "Epoch: 003/050 | Batch 0050/0210 | Loss: 0.0855\n",
      "Epoch: 003/050 | Batch 0100/0210 | Loss: 0.0881\n",
      "Epoch: 003/050 | Batch 0150/0210 | Loss: 0.0738\n",
      "Epoch: 003/050 | Batch 0200/0210 | Loss: 0.1054\n",
      "Epoch: 003/050 | Train: 97.99% | Validation: 97.53%\n",
      "Time elapsed: 2.30 min\n",
      "Epoch: 004/050 | Batch 0000/0210 | Loss: 0.0668\n",
      "Epoch: 004/050 | Batch 0050/0210 | Loss: 0.0449\n",
      "Epoch: 004/050 | Batch 0100/0210 | Loss: 0.0643\n",
      "Epoch: 004/050 | Batch 0150/0210 | Loss: 0.0815\n",
      "Epoch: 004/050 | Batch 0200/0210 | Loss: 0.0917\n",
      "Epoch: 004/050 | Train: 98.38% | Validation: 97.38%\n",
      "Time elapsed: 3.07 min\n",
      "Epoch: 005/050 | Batch 0000/0210 | Loss: 0.0526\n",
      "Epoch: 005/050 | Batch 0050/0210 | Loss: 0.0867\n",
      "Epoch: 005/050 | Batch 0100/0210 | Loss: 0.0412\n",
      "Epoch: 005/050 | Batch 0150/0210 | Loss: 0.0778\n",
      "Epoch: 005/050 | Batch 0200/0210 | Loss: 0.0436\n",
      "Epoch: 005/050 | Train: 98.55% | Validation: 97.58%\n",
      "Time elapsed: 3.74 min\n",
      "Epoch: 006/050 | Batch 0000/0210 | Loss: 0.0416\n",
      "Epoch: 006/050 | Batch 0050/0210 | Loss: 0.0437\n",
      "Epoch: 006/050 | Batch 0100/0210 | Loss: 0.0520\n",
      "Epoch: 006/050 | Batch 0150/0210 | Loss: 0.0505\n",
      "Epoch: 006/050 | Batch 0200/0210 | Loss: 0.0561\n",
      "Epoch: 006/050 | Train: 99.03% | Validation: 97.77%\n",
      "Time elapsed: 4.32 min\n",
      "Epoch: 007/050 | Batch 0000/0210 | Loss: 0.0465\n",
      "Epoch: 007/050 | Batch 0050/0210 | Loss: 0.0193\n",
      "Epoch: 007/050 | Batch 0100/0210 | Loss: 0.0616\n",
      "Epoch: 007/050 | Batch 0150/0210 | Loss: 0.0446\n",
      "Epoch: 007/050 | Batch 0200/0210 | Loss: 0.0439\n",
      "Epoch: 007/050 | Train: 99.31% | Validation: 98.13%\n",
      "Time elapsed: 4.90 min\n",
      "Epoch: 008/050 | Batch 0000/0210 | Loss: 0.0155\n",
      "Epoch: 008/050 | Batch 0050/0210 | Loss: 0.0185\n",
      "Epoch: 008/050 | Batch 0100/0210 | Loss: 0.0590\n",
      "Epoch: 008/050 | Batch 0150/0210 | Loss: 0.0443\n",
      "Epoch: 008/050 | Batch 0200/0210 | Loss: 0.0355\n",
      "Epoch: 008/050 | Train: 99.46% | Validation: 97.88%\n",
      "Time elapsed: 5.54 min\n",
      "Epoch: 009/050 | Batch 0000/0210 | Loss: 0.0217\n",
      "Epoch: 009/050 | Batch 0050/0210 | Loss: 0.0292\n",
      "Epoch: 009/050 | Batch 0100/0210 | Loss: 0.0154\n",
      "Epoch: 009/050 | Batch 0150/0210 | Loss: 0.0357\n",
      "Epoch: 009/050 | Batch 0200/0210 | Loss: 0.0200\n",
      "Epoch: 009/050 | Train: 99.42% | Validation: 97.92%\n",
      "Time elapsed: 6.21 min\n",
      "Epoch: 010/050 | Batch 0000/0210 | Loss: 0.0387\n",
      "Epoch: 010/050 | Batch 0050/0210 | Loss: 0.0253\n",
      "Epoch: 010/050 | Batch 0100/0210 | Loss: 0.0286\n",
      "Epoch: 010/050 | Batch 0150/0210 | Loss: 0.0332\n",
      "Epoch: 010/050 | Batch 0200/0210 | Loss: 0.0255\n",
      "Epoch: 010/050 | Train: 99.56% | Validation: 97.75%\n",
      "Time elapsed: 7.33 min\n",
      "Epoch: 011/050 | Batch 0000/0210 | Loss: 0.0230\n",
      "Epoch: 011/050 | Batch 0050/0210 | Loss: 0.0133\n",
      "Epoch: 011/050 | Batch 0100/0210 | Loss: 0.0201\n",
      "Epoch: 011/050 | Batch 0150/0210 | Loss: 0.0202\n",
      "Epoch: 011/050 | Batch 0200/0210 | Loss: 0.0268\n",
      "Epoch: 011/050 | Train: 99.67% | Validation: 97.62%\n",
      "Time elapsed: 8.57 min\n",
      "Epoch: 012/050 | Batch 0000/0210 | Loss: 0.0339\n",
      "Epoch: 012/050 | Batch 0050/0210 | Loss: 0.0165\n",
      "Epoch: 012/050 | Batch 0100/0210 | Loss: 0.0130\n",
      "Epoch: 012/050 | Batch 0150/0210 | Loss: 0.0147\n",
      "Epoch: 012/050 | Batch 0200/0210 | Loss: 0.0188\n",
      "Epoch: 012/050 | Train: 99.71% | Validation: 97.85%\n",
      "Time elapsed: 9.71 min\n",
      "Epoch: 013/050 | Batch 0000/0210 | Loss: 0.0086\n",
      "Epoch: 013/050 | Batch 0050/0210 | Loss: 0.0189\n",
      "Epoch: 013/050 | Batch 0100/0210 | Loss: 0.0215\n",
      "Epoch: 013/050 | Batch 0150/0210 | Loss: 0.0241\n",
      "Epoch: 013/050 | Batch 0200/0210 | Loss: 0.0097\n",
      "Epoch: 013/050 | Train: 99.84% | Validation: 97.90%\n",
      "Time elapsed: 10.78 min\n",
      "Epoch: 014/050 | Batch 0000/0210 | Loss: 0.0071\n",
      "Epoch: 014/050 | Batch 0050/0210 | Loss: 0.0158\n",
      "Epoch: 014/050 | Batch 0100/0210 | Loss: 0.0269\n",
      "Epoch: 014/050 | Batch 0150/0210 | Loss: 0.0194\n",
      "Epoch: 014/050 | Batch 0200/0210 | Loss: 0.0292\n",
      "Epoch: 014/050 | Train: 99.72% | Validation: 97.58%\n",
      "Time elapsed: 11.86 min\n",
      "Epoch: 015/050 | Batch 0000/0210 | Loss: 0.0112\n",
      "Epoch: 015/050 | Batch 0050/0210 | Loss: 0.0118\n",
      "Epoch: 015/050 | Batch 0100/0210 | Loss: 0.0201\n",
      "Epoch: 015/050 | Batch 0150/0210 | Loss: 0.0212\n",
      "Epoch: 015/050 | Batch 0200/0210 | Loss: 0.0167\n",
      "Epoch: 015/050 | Train: 99.67% | Validation: 97.77%\n",
      "Time elapsed: 12.81 min\n",
      "Epoch: 016/050 | Batch 0000/0210 | Loss: 0.0111\n",
      "Epoch: 016/050 | Batch 0050/0210 | Loss: 0.0172\n",
      "Epoch: 016/050 | Batch 0100/0210 | Loss: 0.0101\n",
      "Epoch: 016/050 | Batch 0150/0210 | Loss: 0.0094\n",
      "Epoch: 016/050 | Batch 0200/0210 | Loss: 0.0153\n",
      "Epoch: 016/050 | Train: 99.86% | Validation: 97.82%\n",
      "Time elapsed: 13.74 min\n",
      "Epoch: 017/050 | Batch 0000/0210 | Loss: 0.0028\n",
      "Epoch: 017/050 | Batch 0050/0210 | Loss: 0.0057\n",
      "Epoch: 017/050 | Batch 0100/0210 | Loss: 0.0111\n",
      "Epoch: 017/050 | Batch 0150/0210 | Loss: 0.0114\n",
      "Epoch: 017/050 | Batch 0200/0210 | Loss: 0.0117\n",
      "Epoch: 017/050 | Train: 99.95% | Validation: 98.05%\n",
      "Time elapsed: 14.68 min\n",
      "Epoch: 018/050 | Batch 0000/0210 | Loss: 0.0074\n",
      "Epoch: 018/050 | Batch 0050/0210 | Loss: 0.0172\n",
      "Epoch: 018/050 | Batch 0100/0210 | Loss: 0.0161\n",
      "Epoch: 018/050 | Batch 0150/0210 | Loss: 0.0109\n",
      "Epoch: 018/050 | Batch 0200/0210 | Loss: 0.0287\n",
      "Epoch: 018/050 | Train: 99.95% | Validation: 98.00%\n",
      "Time elapsed: 15.67 min\n",
      "Epoch: 019/050 | Batch 0000/0210 | Loss: 0.0105\n",
      "Epoch: 019/050 | Batch 0050/0210 | Loss: 0.0094\n",
      "Epoch: 019/050 | Batch 0100/0210 | Loss: 0.0138\n",
      "Epoch: 019/050 | Batch 0150/0210 | Loss: 0.0101\n",
      "Epoch: 019/050 | Batch 0200/0210 | Loss: 0.0112\n",
      "Epoch: 019/050 | Train: 99.93% | Validation: 98.00%\n",
      "Time elapsed: 16.60 min\n",
      "Epoch: 020/050 | Batch 0000/0210 | Loss: 0.0047\n",
      "Epoch: 020/050 | Batch 0050/0210 | Loss: 0.0066\n",
      "Epoch: 020/050 | Batch 0100/0210 | Loss: 0.0047\n",
      "Epoch: 020/050 | Batch 0150/0210 | Loss: 0.0095\n",
      "Epoch: 020/050 | Batch 0200/0210 | Loss: 0.0073\n",
      "Epoch: 020/050 | Train: 99.93% | Validation: 97.88%\n",
      "Time elapsed: 17.66 min\n",
      "Epoch: 021/050 | Batch 0000/0210 | Loss: 0.0150\n",
      "Epoch: 021/050 | Batch 0050/0210 | Loss: 0.0088\n",
      "Epoch: 021/050 | Batch 0100/0210 | Loss: 0.0089\n",
      "Epoch: 021/050 | Batch 0150/0210 | Loss: 0.0052\n",
      "Epoch: 021/050 | Batch 0200/0210 | Loss: 0.0112\n",
      "Epoch: 021/050 | Train: 99.97% | Validation: 97.85%\n",
      "Time elapsed: 18.74 min\n",
      "Epoch: 022/050 | Batch 0000/0210 | Loss: 0.0062\n",
      "Epoch: 022/050 | Batch 0050/0210 | Loss: 0.0047\n",
      "Epoch: 022/050 | Batch 0100/0210 | Loss: 0.0069\n",
      "Epoch: 022/050 | Batch 0150/0210 | Loss: 0.0060\n",
      "Epoch: 022/050 | Batch 0200/0210 | Loss: 0.0060\n",
      "Epoch: 022/050 | Train: 99.96% | Validation: 97.92%\n",
      "Time elapsed: 19.78 min\n",
      "Epoch: 023/050 | Batch 0000/0210 | Loss: 0.0095\n",
      "Epoch: 023/050 | Batch 0050/0210 | Loss: 0.0067\n",
      "Epoch: 023/050 | Batch 0100/0210 | Loss: 0.0042\n",
      "Epoch: 023/050 | Batch 0150/0210 | Loss: 0.0072\n",
      "Epoch: 023/050 | Batch 0200/0210 | Loss: 0.0078\n",
      "Epoch: 023/050 | Train: 99.99% | Validation: 98.05%\n",
      "Time elapsed: 20.89 min\n",
      "Epoch: 024/050 | Batch 0000/0210 | Loss: 0.0053\n",
      "Epoch: 024/050 | Batch 0050/0210 | Loss: 0.0035\n",
      "Epoch: 024/050 | Batch 0100/0210 | Loss: 0.0041\n",
      "Epoch: 024/050 | Batch 0150/0210 | Loss: 0.0072\n",
      "Epoch: 024/050 | Batch 0200/0210 | Loss: 0.0044\n",
      "Epoch: 024/050 | Train: 99.99% | Validation: 98.07%\n",
      "Time elapsed: 21.92 min\n",
      "Epoch: 025/050 | Batch 0000/0210 | Loss: 0.0029\n",
      "Epoch: 025/050 | Batch 0050/0210 | Loss: 0.0036\n",
      "Epoch: 025/050 | Batch 0100/0210 | Loss: 0.0083\n",
      "Epoch: 025/050 | Batch 0150/0210 | Loss: 0.0061\n",
      "Epoch: 025/050 | Batch 0200/0210 | Loss: 0.0052\n",
      "Epoch: 025/050 | Train: 99.98% | Validation: 98.07%\n",
      "Time elapsed: 22.83 min\n",
      "Epoch: 026/050 | Batch 0000/0210 | Loss: 0.0037\n",
      "Epoch: 026/050 | Batch 0050/0210 | Loss: 0.0049\n",
      "Epoch: 026/050 | Batch 0100/0210 | Loss: 0.0041\n",
      "Epoch: 026/050 | Batch 0150/0210 | Loss: 0.0110\n",
      "Epoch: 026/050 | Batch 0200/0210 | Loss: 0.0068\n",
      "Epoch: 026/050 | Train: 100.00% | Validation: 97.98%\n",
      "Time elapsed: 23.64 min\n",
      "Epoch: 027/050 | Batch 0000/0210 | Loss: 0.0038\n",
      "Epoch: 027/050 | Batch 0050/0210 | Loss: 0.0038\n",
      "Epoch: 027/050 | Batch 0100/0210 | Loss: 0.0033\n",
      "Epoch: 027/050 | Batch 0150/0210 | Loss: 0.0070\n",
      "Epoch: 027/050 | Batch 0200/0210 | Loss: 0.0134\n",
      "Epoch: 027/050 | Train: 99.98% | Validation: 97.73%\n",
      "Time elapsed: 24.47 min\n",
      "Epoch: 028/050 | Batch 0000/0210 | Loss: 0.0065\n",
      "Epoch: 028/050 | Batch 0050/0210 | Loss: 0.0042\n",
      "Epoch: 028/050 | Batch 0100/0210 | Loss: 0.0032\n",
      "Epoch: 028/050 | Batch 0150/0210 | Loss: 0.0141\n",
      "Epoch: 028/050 | Batch 0200/0210 | Loss: 0.0055\n",
      "Epoch: 028/050 | Train: 100.00% | Validation: 97.98%\n",
      "Time elapsed: 25.39 min\n",
      "Epoch: 029/050 | Batch 0000/0210 | Loss: 0.0037\n",
      "Epoch: 029/050 | Batch 0050/0210 | Loss: 0.0026\n",
      "Epoch: 029/050 | Batch 0100/0210 | Loss: 0.0139\n",
      "Epoch: 029/050 | Batch 0150/0210 | Loss: 0.0080\n",
      "Epoch: 029/050 | Batch 0200/0210 | Loss: 0.0025\n",
      "Epoch: 029/050 | Train: 100.00% | Validation: 98.08%\n",
      "Time elapsed: 26.19 min\n",
      "Epoch: 030/050 | Batch 0000/0210 | Loss: 0.0019\n",
      "Epoch: 030/050 | Batch 0050/0210 | Loss: 0.0049\n",
      "Epoch: 030/050 | Batch 0100/0210 | Loss: 0.0039\n",
      "Epoch: 030/050 | Batch 0150/0210 | Loss: 0.0033\n",
      "Epoch: 030/050 | Batch 0200/0210 | Loss: 0.0059\n",
      "Epoch: 030/050 | Train: 100.00% | Validation: 98.20%\n",
      "Time elapsed: 27.01 min\n",
      "Epoch: 031/050 | Batch 0000/0210 | Loss: 0.0016\n",
      "Epoch: 031/050 | Batch 0050/0210 | Loss: 0.0010\n",
      "Epoch: 031/050 | Batch 0100/0210 | Loss: 0.0033\n",
      "Epoch: 031/050 | Batch 0150/0210 | Loss: 0.0036\n",
      "Epoch: 031/050 | Batch 0200/0210 | Loss: 0.0023\n",
      "Epoch: 031/050 | Train: 99.99% | Validation: 98.03%\n",
      "Time elapsed: 27.85 min\n",
      "Epoch: 032/050 | Batch 0000/0210 | Loss: 0.0038\n",
      "Epoch: 032/050 | Batch 0050/0210 | Loss: 0.0024\n",
      "Epoch: 032/050 | Batch 0100/0210 | Loss: 0.0022\n",
      "Epoch: 032/050 | Batch 0150/0210 | Loss: 0.0040\n",
      "Epoch: 032/050 | Batch 0200/0210 | Loss: 0.0017\n",
      "Epoch: 032/050 | Train: 100.00% | Validation: 97.97%\n",
      "Time elapsed: 28.69 min\n",
      "Epoch: 033/050 | Batch 0000/0210 | Loss: 0.0069\n",
      "Epoch: 033/050 | Batch 0050/0210 | Loss: 0.0020\n",
      "Epoch: 033/050 | Batch 0100/0210 | Loss: 0.0017\n",
      "Epoch: 033/050 | Batch 0150/0210 | Loss: 0.0017\n",
      "Epoch: 033/050 | Batch 0200/0210 | Loss: 0.0028\n",
      "Epoch: 033/050 | Train: 100.00% | Validation: 97.92%\n",
      "Time elapsed: 29.79 min\n",
      "Epoch: 034/050 | Batch 0000/0210 | Loss: 0.0043\n",
      "Epoch: 034/050 | Batch 0050/0210 | Loss: 0.0041\n",
      "Epoch: 034/050 | Batch 0100/0210 | Loss: 0.0242\n",
      "Epoch: 034/050 | Batch 0150/0210 | Loss: 0.0023\n",
      "Epoch: 034/050 | Batch 0200/0210 | Loss: 0.0031\n",
      "Epoch: 034/050 | Train: 99.99% | Validation: 97.90%\n",
      "Time elapsed: 30.61 min\n",
      "Epoch: 035/050 | Batch 0000/0210 | Loss: 0.0032\n",
      "Epoch: 035/050 | Batch 0050/0210 | Loss: 0.0054\n",
      "Epoch: 035/050 | Batch 0100/0210 | Loss: 0.0050\n",
      "Epoch: 035/050 | Batch 0150/0210 | Loss: 0.0027\n",
      "Epoch: 035/050 | Batch 0200/0210 | Loss: 0.0040\n",
      "Epoch: 035/050 | Train: 100.00% | Validation: 98.00%\n",
      "Time elapsed: 31.41 min\n",
      "Epoch: 036/050 | Batch 0000/0210 | Loss: 0.0015\n",
      "Epoch: 036/050 | Batch 0050/0210 | Loss: 0.0032\n",
      "Epoch: 036/050 | Batch 0100/0210 | Loss: 0.0017\n",
      "Epoch: 036/050 | Batch 0150/0210 | Loss: 0.0011\n",
      "Epoch: 036/050 | Batch 0200/0210 | Loss: 0.0023\n",
      "Epoch: 036/050 | Train: 100.00% | Validation: 97.92%\n",
      "Time elapsed: 32.22 min\n",
      "Epoch: 037/050 | Batch 0000/0210 | Loss: 0.0015\n",
      "Epoch: 037/050 | Batch 0050/0210 | Loss: 0.0053\n",
      "Epoch: 037/050 | Batch 0100/0210 | Loss: 0.0035\n",
      "Epoch: 037/050 | Batch 0150/0210 | Loss: 0.0026\n",
      "Epoch: 037/050 | Batch 0200/0210 | Loss: 0.0017\n",
      "Epoch: 037/050 | Train: 100.00% | Validation: 97.98%\n",
      "Time elapsed: 33.20 min\n",
      "Epoch: 038/050 | Batch 0000/0210 | Loss: 0.0037\n",
      "Epoch: 038/050 | Batch 0050/0210 | Loss: 0.0037\n",
      "Epoch: 038/050 | Batch 0100/0210 | Loss: 0.0039\n",
      "Epoch: 038/050 | Batch 0150/0210 | Loss: 0.0018\n",
      "Epoch: 038/050 | Batch 0200/0210 | Loss: 0.0012\n",
      "Epoch: 038/050 | Train: 100.00% | Validation: 98.08%\n",
      "Time elapsed: 34.13 min\n",
      "Epoch: 039/050 | Batch 0000/0210 | Loss: 0.0043\n",
      "Epoch: 039/050 | Batch 0050/0210 | Loss: 0.0014\n",
      "Epoch: 039/050 | Batch 0100/0210 | Loss: 0.0069\n",
      "Epoch: 039/050 | Batch 0150/0210 | Loss: 0.0012\n",
      "Epoch: 039/050 | Batch 0200/0210 | Loss: 0.0040\n",
      "Epoch: 039/050 | Train: 99.85% | Validation: 97.80%\n",
      "Time elapsed: 35.02 min\n",
      "Epoch: 040/050 | Batch 0000/0210 | Loss: 0.0054\n",
      "Epoch: 040/050 | Batch 0050/0210 | Loss: 0.0025\n",
      "Epoch: 040/050 | Batch 0100/0210 | Loss: 0.0010\n",
      "Epoch: 040/050 | Batch 0150/0210 | Loss: 0.0081\n",
      "Epoch: 040/050 | Batch 0200/0210 | Loss: 0.0012\n",
      "Epoch: 040/050 | Train: 100.00% | Validation: 97.92%\n",
      "Time elapsed: 35.84 min\n",
      "Epoch: 041/050 | Batch 0000/0210 | Loss: 0.0020\n",
      "Epoch: 041/050 | Batch 0050/0210 | Loss: 0.0059\n",
      "Epoch: 041/050 | Batch 0100/0210 | Loss: 0.0035\n",
      "Epoch: 041/050 | Batch 0150/0210 | Loss: 0.0020\n",
      "Epoch: 041/050 | Batch 0200/0210 | Loss: 0.0017\n",
      "Epoch: 041/050 | Train: 100.00% | Validation: 98.02%\n",
      "Time elapsed: 36.65 min\n",
      "Epoch: 042/050 | Batch 0000/0210 | Loss: 0.0019\n",
      "Epoch: 042/050 | Batch 0050/0210 | Loss: 0.0024\n",
      "Epoch: 042/050 | Batch 0100/0210 | Loss: 0.0011\n",
      "Epoch: 042/050 | Batch 0150/0210 | Loss: 0.0005\n",
      "Epoch: 042/050 | Batch 0200/0210 | Loss: 0.0022\n",
      "Epoch: 042/050 | Train: 100.00% | Validation: 98.07%\n",
      "Time elapsed: 37.46 min\n",
      "Epoch: 043/050 | Batch 0000/0210 | Loss: 0.0019\n",
      "Epoch: 043/050 | Batch 0050/0210 | Loss: 0.0010\n",
      "Epoch: 043/050 | Batch 0100/0210 | Loss: 0.0031\n",
      "Epoch: 043/050 | Batch 0150/0210 | Loss: 0.0023\n",
      "Epoch: 043/050 | Batch 0200/0210 | Loss: 0.0020\n",
      "Epoch: 043/050 | Train: 100.00% | Validation: 98.03%\n",
      "Time elapsed: 38.24 min\n",
      "Epoch: 044/050 | Batch 0000/0210 | Loss: 0.0023\n",
      "Epoch: 044/050 | Batch 0050/0210 | Loss: 0.0036\n",
      "Epoch: 044/050 | Batch 0100/0210 | Loss: 0.0013\n",
      "Epoch: 044/050 | Batch 0150/0210 | Loss: 0.0014\n",
      "Epoch: 044/050 | Batch 0200/0210 | Loss: 0.0018\n",
      "Epoch: 044/050 | Train: 100.00% | Validation: 97.92%\n",
      "Time elapsed: 39.04 min\n",
      "Epoch: 045/050 | Batch 0000/0210 | Loss: 0.0014\n",
      "Epoch: 045/050 | Batch 0050/0210 | Loss: 0.0054\n",
      "Epoch: 045/050 | Batch 0100/0210 | Loss: 0.0011\n",
      "Epoch: 045/050 | Batch 0150/0210 | Loss: 0.0013\n",
      "Epoch: 045/050 | Batch 0200/0210 | Loss: 0.0014\n",
      "Epoch: 045/050 | Train: 100.00% | Validation: 98.05%\n",
      "Time elapsed: 39.82 min\n",
      "Epoch: 046/050 | Batch 0000/0210 | Loss: 0.0019\n",
      "Epoch: 046/050 | Batch 0050/0210 | Loss: 0.0013\n",
      "Epoch: 046/050 | Batch 0100/0210 | Loss: 0.0044\n",
      "Epoch: 046/050 | Batch 0150/0210 | Loss: 0.0015\n",
      "Epoch: 046/050 | Batch 0200/0210 | Loss: 0.0018\n",
      "Epoch: 046/050 | Train: 100.00% | Validation: 97.95%\n",
      "Time elapsed: 40.61 min\n",
      "Epoch: 047/050 | Batch 0000/0210 | Loss: 0.0022\n",
      "Epoch: 047/050 | Batch 0050/0210 | Loss: 0.0022\n",
      "Epoch: 047/050 | Batch 0100/0210 | Loss: 0.0015\n",
      "Epoch: 047/050 | Batch 0150/0210 | Loss: 0.0021\n",
      "Epoch: 047/050 | Batch 0200/0210 | Loss: 0.0012\n",
      "Epoch: 047/050 | Train: 100.00% | Validation: 97.97%\n",
      "Time elapsed: 41.40 min\n",
      "Epoch: 048/050 | Batch 0000/0210 | Loss: 0.0012\n",
      "Epoch: 048/050 | Batch 0050/0210 | Loss: 0.0018\n",
      "Epoch: 048/050 | Batch 0100/0210 | Loss: 0.0019\n",
      "Epoch: 048/050 | Batch 0150/0210 | Loss: 0.0016\n",
      "Epoch: 048/050 | Batch 0200/0210 | Loss: 0.0068\n",
      "Epoch: 048/050 | Train: 100.00% | Validation: 97.92%\n",
      "Time elapsed: 42.19 min\n",
      "Epoch: 049/050 | Batch 0000/0210 | Loss: 0.0009\n",
      "Epoch: 049/050 | Batch 0050/0210 | Loss: 0.0019\n",
      "Epoch: 049/050 | Batch 0100/0210 | Loss: 0.0016\n",
      "Epoch: 049/050 | Batch 0150/0210 | Loss: 0.0013\n",
      "Epoch: 049/050 | Batch 0200/0210 | Loss: 0.0017\n",
      "Epoch: 049/050 | Train: 100.00% | Validation: 98.02%\n",
      "Time elapsed: 42.98 min\n",
      "Epoch: 050/050 | Batch 0000/0210 | Loss: 0.0016\n",
      "Epoch: 050/050 | Batch 0050/0210 | Loss: 0.0009\n",
      "Epoch: 050/050 | Batch 0100/0210 | Loss: 0.0018\n",
      "Epoch: 050/050 | Batch 0150/0210 | Loss: 0.0008\n",
      "Epoch: 050/050 | Batch 0200/0210 | Loss: 0.0007\n",
      "Epoch: 050/050 | Train: 100.00% | Validation: 98.08%\n",
      "Time elapsed: 43.90 min\n",
      "Total Training Time: 43.90 min\n",
      "Test accuracy 97.89%\n"
     ]
    },
    {
     "data": {
      "image/png": "[encoded data removed]",
      "text/plain": [
       "<Figure size 640x480 with 2 Axes>"
      ]
     },
     "metadata": {},
     "output_type": "display_data"
    },
    {
     "data": {
      "image/png": "[encoded data removed]",
      "text/plain": [
       "<Figure size 640x480 with 1 Axes>"
      ]
     },
     "metadata": {},
     "output_type": "display_data"
    }
   ],
   "source": [
    "torch.manual_seed(RANDOM_SEED)\n",
    "model = MultilayerPerceptron(num_features=28*28,\n",
    "                             num_hidden_1=NUM_HIDDEN_1,\n",
    "                             num_hidden_2=NUM_HIDDEN_2,\n",
    "                             drop_proba=0.5,\n",
    "                             num_classes=10)\n",
    "model = model.to(DEVICE)\n",
    "\n",
    "optimizer = torch.optim.SGD(model.parameters(), lr=0.1)\n",
    "\n",
    "minibatch_loss_list, train_acc_list, valid_acc_list = train_model(\n",
    "    model=model,\n",
    "    num_epochs=NUM_EPOCHS,\n",
    "    train_loader=train_loader,\n",
    "    valid_loader=valid_loader,\n",
    "    test_loader=test_loader,\n",
    "    optimizer=optimizer,\n",
    "    device=DEVICE)\n",
    "\n",
    "plot_training_loss(minibatch_loss_list=minibatch_loss_list,\n",
    "                   num_epochs=NUM_EPOCHS,\n",
    "                   iter_per_epoch=len(train_loader),\n",
    "                   results_dir=None,\n",
    "                   averaging_iterations=20)\n",
    "plt.show()\n",
    "\n",
    "plot_accuracy(train_acc_list=train_acc_list,\n",
    "              valid_acc_list=valid_acc_list,\n",
    "              results_dir=None)\n",
    "plt.ylim([80, 100])\n",
    "plt.show()"
   ]
  },
  {
   "cell_type": "code",
   "execution_count": 8,
   "metadata": {
    "colab": {
     "base_uri": "https://localhost:8080/"
    },
    "executionInfo": {
     "elapsed": 1662,
     "status": "ok",
     "timestamp": 1633105193240,
     "user": {
      "displayName": "Juan David Martinez Vargas",
      "photoUrl": "https://lh3.googleusercontent.com/a/default-user=s64",
      "userId": "10271309777444916336"
     },
     "user_tz": 300
    },
    "id": "sIUZT-2HpLlg",
    "metadata": {},
    "outputId": "b82dbd0b-2e12-4bf8-8a4a-c56e93fe99cd"
   },
   "outputs": [
    {
     "name": "stdout",
     "output_type": "stream",
     "text": [
      "tensor(97.8900)\n"
     ]
    }
   ],
   "source": [
    "test_acc= compute_accuracy(model, test_loader, device= DEVICE)\n",
    "print(test_acc)"
   ]
  }
 ],
 "metadata": {
  "accelerator": "GPU",
  "colab": {
   "name": "batchnorm.ipynb",
   "provenance": []
  },
  "kernelspec": {
   "display_name": "Python 3 (ipykernel)",
   "language": "python",
   "name": "python3"
  },
  "language_info": {
   "codemirror_mode": {
    "name": "ipython",
    "version": 3
   },
   "file_extension": ".py",
   "mimetype": "text/x-python",
   "name": "python",
   "nbconvert_exporter": "python",
   "pygments_lexer": "ipython3",
   "version": "3.10.12"
  },
  "toc": {
   "nav_menu": {},
   "number_sections": true,
   "sideBar": true,
   "skip_h1_title": false,
   "title_cell": "Table of Contents",
   "title_sidebar": "Contents",
   "toc_cell": false,
   "toc_position": {},
   "toc_section_display": true,
   "toc_window_display": false
  }
 },
 "nbformat": 4,
 "nbformat_minor": 4
}
