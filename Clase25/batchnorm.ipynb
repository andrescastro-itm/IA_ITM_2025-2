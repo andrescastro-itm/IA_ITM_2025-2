{
 "cells": [
  {
   "cell_type": "markdown",
   "metadata": {
    "id": "nVRrCUvu0Saw"
   },
   "source": [
    "Thanks to: Sebastian Raschka (sraschka@wisc.edu)\n",
    "\n",
    "<a href=\"https://colab.research.google.com/github/andrescastro-itm/IA_ITM_2025-2/blob/main/Clase25/batchnorm.ipynb\" target=\"_parent\"><img src=\"https://colab.research.google.com/assets/colab-badge.svg\" alt=\"Open In Colab\"/></a>"
   ]
  },
  {
   "cell_type": "markdown",
   "metadata": {
    "id": "M4bWRp6h0Sa5"
   },
   "source": [
    "# MLP with BatchNorm "
   ]
  },
  {
   "cell_type": "markdown",
   "metadata": {
    "id": "YWVjzk2F0Sa6"
   },
   "source": [
    "## Imports"
   ]
  },
  {
   "cell_type": "code",
   "execution_count": 1,
   "metadata": {
    "executionInfo": {
     "elapsed": 3726,
     "status": "ok",
     "timestamp": 1633103865450,
     "user": {
      "displayName": "Juan David Martinez Vargas",
      "photoUrl": "https://lh3.googleusercontent.com/a/default-user=s64",
      "userId": "10271309777444916336"
     },
     "user_tz": 300
    },
    "id": "RojGLb-W0Sa7"
   },
   "outputs": [],
   "source": [
    "import torch\n",
    "import numpy as np\n",
    "import matplotlib.pyplot as plt"
   ]
  },
  {
   "cell_type": "code",
   "execution_count": 2,
   "metadata": {
    "executionInfo": {
     "elapsed": 367,
     "status": "ok",
     "timestamp": 1633105070023,
     "user": {
      "displayName": "Juan David Martinez Vargas",
      "photoUrl": "https://lh3.googleusercontent.com/a/default-user=s64",
      "userId": "10271309777444916336"
     },
     "user_tz": 300
    },
    "id": "jK28B72G0Sa8"
   },
   "outputs": [],
   "source": [
    "# From local helper files\n",
    "from helper_evaluation import set_all_seeds\n",
    "from helper_train import train_model\n",
    "from helper_plotting import plot_training_loss, plot_accuracy, show_examples\n",
    "from helper_dataset import get_dataloaders_mnist\n",
    "from helper_evaluation import compute_accuracy"
   ]
  },
  {
   "cell_type": "markdown",
   "metadata": {
    "id": "JXr1GuPI0Sa8"
   },
   "source": [
    "## Settings and Dataset"
   ]
  },
  {
   "cell_type": "code",
   "execution_count": 3,
   "metadata": {
    "executionInfo": {
     "elapsed": 354,
     "status": "ok",
     "timestamp": 1633103874574,
     "user": {
      "displayName": "Juan David Martinez Vargas",
      "photoUrl": "https://lh3.googleusercontent.com/a/default-user=s64",
      "userId": "10271309777444916336"
     },
     "user_tz": 300
    },
    "id": "q73QCJKo0Sa9"
   },
   "outputs": [],
   "source": [
    "##########################\n",
    "### SETTINGS\n",
    "##########################\n",
    "\n",
    "RANDOM_SEED = 123\n",
    "BATCH_SIZE = 256\n",
    "NUM_HIDDEN_1 = 75\n",
    "NUM_HIDDEN_2 = 45\n",
    "NUM_EPOCHS = 50\n",
    "DEVICE = torch.device('cuda:0' if torch.cuda.is_available() else 'cpu')"
   ]
  },
  {
   "cell_type": "code",
   "execution_count": 4,
   "metadata": {
    "executionInfo": {
     "elapsed": 374,
     "status": "ok",
     "timestamp": 1633103878698,
     "user": {
      "displayName": "Juan David Martinez Vargas",
      "photoUrl": "https://lh3.googleusercontent.com/a/default-user=s64",
      "userId": "10271309777444916336"
     },
     "user_tz": 300
    },
    "id": "_CPm-dDC0Sa-"
   },
   "outputs": [],
   "source": [
    "set_all_seeds(RANDOM_SEED)\n",
    "#set_deterministic()"
   ]
  },
  {
   "cell_type": "code",
   "execution_count": 5,
   "metadata": {
    "colab": {
     "base_uri": "https://localhost:8080/"
    },
    "executionInfo": {
     "elapsed": 6566,
     "status": "ok",
     "timestamp": 1633103887796,
     "user": {
      "displayName": "Juan David Martinez Vargas",
      "photoUrl": "https://lh3.googleusercontent.com/a/default-user=s64",
      "userId": "10271309777444916336"
     },
     "user_tz": 300
    },
    "id": "fwo0BqjX0Sa_",
    "metadata": {},
    "outputId": "015d9d91-c6f3-419e-95a7-3ffbadf1222e"
   },
   "outputs": [
    {
     "name": "stdout",
     "output_type": "stream",
     "text": [
      "Image batch dimensions: torch.Size([256, 1, 28, 28])\n",
      "Image label dimensions: torch.Size([256])\n",
      "Class labels of 10 examples: tensor([4, 5, 8, 9, 9, 4, 9, 9, 3, 9])\n"
     ]
    }
   ],
   "source": [
    "##########################\n",
    "### MNIST DATASET\n",
    "##########################\n",
    "\n",
    "train_loader, valid_loader, test_loader = get_dataloaders_mnist(\n",
    "    batch_size=BATCH_SIZE,\n",
    "    validation_fraction=0.1)\n",
    "\n",
    "# Checking the dataset\n",
    "for images, labels in train_loader:  \n",
    "    print('Image batch dimensions:', images.shape)\n",
    "    print('Image label dimensions:', labels.shape)\n",
    "    print('Class labels of 10 examples:', labels[:10])\n",
    "    break"
   ]
  },
  {
   "cell_type": "markdown",
   "metadata": {
    "id": "SvNzb1wb0SbA"
   },
   "source": [
    "## Model"
   ]
  },
  {
   "cell_type": "code",
   "execution_count": 6,
   "metadata": {
    "executionInfo": {
     "elapsed": 349,
     "status": "ok",
     "timestamp": 1633103892128,
     "user": {
      "displayName": "Juan David Martinez Vargas",
      "photoUrl": "https://lh3.googleusercontent.com/a/default-user=s64",
      "userId": "10271309777444916336"
     },
     "user_tz": 300
    },
    "id": "BOmonpS40SbB"
   },
   "outputs": [],
   "source": [
    "class MultilayerPerceptron(torch.nn.Module):\n",
    "\n",
    "    def __init__(self, num_features, num_classes, drop_proba, \n",
    "                 num_hidden_1, num_hidden_2):\n",
    "        super().__init__()\n",
    "        \n",
    "        self.my_network = torch.nn.Sequential(\n",
    "            # 1st hidden layer\n",
    "            torch.nn.Flatten(),\n",
    "            torch.nn.Linear(num_features, num_hidden_1, bias=False),\n",
    "            torch.nn.BatchNorm1d(num_hidden_1),\n",
    "            torch.nn.ReLU(),\n",
    "            # 2nd hidden layer\n",
    "            torch.nn.Linear(num_hidden_1, num_hidden_2, bias=False),\n",
    "            torch.nn.BatchNorm1d(num_hidden_2),\n",
    "            torch.nn.ReLU(),\n",
    "            # output layer\n",
    "            torch.nn.Linear(num_hidden_2, num_classes)\n",
    "        )\n",
    "           \n",
    "    def forward(self, x):\n",
    "        logits = self.my_network(x)\n",
    "        return logits"
   ]
  },
  {
   "cell_type": "code",
   "execution_count": 7,
   "metadata": {
    "colab": {
     "base_uri": "https://localhost:8080/",
     "height": 1000
    },
    "executionInfo": {
     "elapsed": 750517,
     "status": "ok",
     "timestamp": 1633104645538,
     "user": {
      "displayName": "Juan David Martinez Vargas",
      "photoUrl": "https://lh3.googleusercontent.com/a/default-user=s64",
      "userId": "10271309777444916336"
     },
     "user_tz": 300
    },
    "id": "CQElEzFs0SbC",
    "metadata": {},
    "outputId": "58f8d918-3d96-4157-e3bf-952e4ad9b1a3"
   },
   "outputs": [
    {
     "name": "stdout",
     "output_type": "stream",
     "text": [
      "Epoch: 001/050 | Batch 0000/0210 | Loss: 2.3559\n",
      "Epoch: 001/050 | Batch 0050/0210 | Loss: 0.4216\n",
      "Epoch: 001/050 | Batch 0100/0210 | Loss: 0.3420\n",
      "Epoch: 001/050 | Batch 0150/0210 | Loss: 0.2311\n",
      "Epoch: 001/050 | Batch 0200/0210 | Loss: 0.2121\n",
      "Epoch: 001/050 | Train: 95.71% | Validation: 96.55%\n",
      "Time elapsed: 0.25 min\n",
      "Epoch: 002/050 | Batch 0000/0210 | Loss: 0.1470\n",
      "Epoch: 002/050 | Batch 0050/0210 | Loss: 0.2062\n",
      "Epoch: 002/050 | Batch 0100/0210 | Loss: 0.1265\n",
      "Epoch: 002/050 | Batch 0150/0210 | Loss: 0.1253\n",
      "Epoch: 002/050 | Batch 0200/0210 | Loss: 0.1502\n",
      "Epoch: 002/050 | Train: 97.41% | Validation: 97.32%\n",
      "Time elapsed: 0.49 min\n",
      "Epoch: 003/050 | Batch 0000/0210 | Loss: 0.1052\n",
      "Epoch: 003/050 | Batch 0050/0210 | Loss: 0.0859\n",
      "Epoch: 003/050 | Batch 0100/0210 | Loss: 0.0889\n",
      "Epoch: 003/050 | Batch 0150/0210 | Loss: 0.0740\n",
      "Epoch: 003/050 | Batch 0200/0210 | Loss: 0.1044\n",
      "Epoch: 003/050 | Train: 97.94% | Validation: 97.53%\n",
      "Time elapsed: 0.74 min\n",
      "Epoch: 004/050 | Batch 0000/0210 | Loss: 0.0670\n",
      "Epoch: 004/050 | Batch 0050/0210 | Loss: 0.0439\n",
      "Epoch: 004/050 | Batch 0100/0210 | Loss: 0.0618\n",
      "Epoch: 004/050 | Batch 0150/0210 | Loss: 0.0825\n",
      "Epoch: 004/050 | Batch 0200/0210 | Loss: 0.0910\n",
      "Epoch: 004/050 | Train: 98.40% | Validation: 97.42%\n",
      "Time elapsed: 0.99 min\n",
      "Epoch: 005/050 | Batch 0000/0210 | Loss: 0.0533\n",
      "Epoch: 005/050 | Batch 0050/0210 | Loss: 0.0904\n",
      "Epoch: 005/050 | Batch 0100/0210 | Loss: 0.0403\n",
      "Epoch: 005/050 | Batch 0150/0210 | Loss: 0.0769\n",
      "Epoch: 005/050 | Batch 0200/0210 | Loss: 0.0425\n",
      "Epoch: 005/050 | Train: 98.57% | Validation: 97.73%\n",
      "Time elapsed: 1.24 min\n",
      "Epoch: 006/050 | Batch 0000/0210 | Loss: 0.0386\n",
      "Epoch: 006/050 | Batch 0050/0210 | Loss: 0.0418\n",
      "Epoch: 006/050 | Batch 0100/0210 | Loss: 0.0500\n",
      "Epoch: 006/050 | Batch 0150/0210 | Loss: 0.0478\n",
      "Epoch: 006/050 | Batch 0200/0210 | Loss: 0.0566\n",
      "Epoch: 006/050 | Train: 99.01% | Validation: 97.75%\n",
      "Time elapsed: 1.49 min\n",
      "Epoch: 007/050 | Batch 0000/0210 | Loss: 0.0441\n",
      "Epoch: 007/050 | Batch 0050/0210 | Loss: 0.0184\n",
      "Epoch: 007/050 | Batch 0100/0210 | Loss: 0.0622\n",
      "Epoch: 007/050 | Batch 0150/0210 | Loss: 0.0473\n",
      "Epoch: 007/050 | Batch 0200/0210 | Loss: 0.0449\n",
      "Epoch: 007/050 | Train: 99.33% | Validation: 98.02%\n",
      "Time elapsed: 1.74 min\n",
      "Epoch: 008/050 | Batch 0000/0210 | Loss: 0.0154\n",
      "Epoch: 008/050 | Batch 0050/0210 | Loss: 0.0185\n",
      "Epoch: 008/050 | Batch 0100/0210 | Loss: 0.0581\n",
      "Epoch: 008/050 | Batch 0150/0210 | Loss: 0.0438\n",
      "Epoch: 008/050 | Batch 0200/0210 | Loss: 0.0377\n",
      "Epoch: 008/050 | Train: 99.46% | Validation: 97.95%\n",
      "Time elapsed: 1.99 min\n",
      "Epoch: 009/050 | Batch 0000/0210 | Loss: 0.0250\n",
      "Epoch: 009/050 | Batch 0050/0210 | Loss: 0.0317\n",
      "Epoch: 009/050 | Batch 0100/0210 | Loss: 0.0144\n",
      "Epoch: 009/050 | Batch 0150/0210 | Loss: 0.0370\n",
      "Epoch: 009/050 | Batch 0200/0210 | Loss: 0.0215\n",
      "Epoch: 009/050 | Train: 99.41% | Validation: 97.97%\n",
      "Time elapsed: 2.23 min\n",
      "Epoch: 010/050 | Batch 0000/0210 | Loss: 0.0360\n",
      "Epoch: 010/050 | Batch 0050/0210 | Loss: 0.0248\n",
      "Epoch: 010/050 | Batch 0100/0210 | Loss: 0.0284\n",
      "Epoch: 010/050 | Batch 0150/0210 | Loss: 0.0299\n",
      "Epoch: 010/050 | Batch 0200/0210 | Loss: 0.0285\n",
      "Epoch: 010/050 | Train: 99.58% | Validation: 97.77%\n",
      "Time elapsed: 2.49 min\n",
      "Epoch: 011/050 | Batch 0000/0210 | Loss: 0.0247\n",
      "Epoch: 011/050 | Batch 0050/0210 | Loss: 0.0150\n",
      "Epoch: 011/050 | Batch 0100/0210 | Loss: 0.0192\n",
      "Epoch: 011/050 | Batch 0150/0210 | Loss: 0.0222\n",
      "Epoch: 011/050 | Batch 0200/0210 | Loss: 0.0275\n",
      "Epoch: 011/050 | Train: 99.67% | Validation: 97.63%\n",
      "Time elapsed: 2.74 min\n",
      "Epoch: 012/050 | Batch 0000/0210 | Loss: 0.0350\n",
      "Epoch: 012/050 | Batch 0050/0210 | Loss: 0.0140\n",
      "Epoch: 012/050 | Batch 0100/0210 | Loss: 0.0130\n",
      "Epoch: 012/050 | Batch 0150/0210 | Loss: 0.0154\n",
      "Epoch: 012/050 | Batch 0200/0210 | Loss: 0.0202\n",
      "Epoch: 012/050 | Train: 99.69% | Validation: 97.83%\n",
      "Time elapsed: 2.98 min\n",
      "Epoch: 013/050 | Batch 0000/0210 | Loss: 0.0090\n",
      "Epoch: 013/050 | Batch 0050/0210 | Loss: 0.0189\n",
      "Epoch: 013/050 | Batch 0100/0210 | Loss: 0.0232\n",
      "Epoch: 013/050 | Batch 0150/0210 | Loss: 0.0260\n",
      "Epoch: 013/050 | Batch 0200/0210 | Loss: 0.0117\n",
      "Epoch: 013/050 | Train: 99.81% | Validation: 97.83%\n",
      "Time elapsed: 3.23 min\n",
      "Epoch: 014/050 | Batch 0000/0210 | Loss: 0.0070\n",
      "Epoch: 014/050 | Batch 0050/0210 | Loss: 0.0144\n",
      "Epoch: 014/050 | Batch 0100/0210 | Loss: 0.0296\n",
      "Epoch: 014/050 | Batch 0150/0210 | Loss: 0.0206\n",
      "Epoch: 014/050 | Batch 0200/0210 | Loss: 0.0312\n",
      "Epoch: 014/050 | Train: 99.75% | Validation: 97.75%\n",
      "Time elapsed: 3.47 min\n",
      "Epoch: 015/050 | Batch 0000/0210 | Loss: 0.0133\n",
      "Epoch: 015/050 | Batch 0050/0210 | Loss: 0.0121\n",
      "Epoch: 015/050 | Batch 0100/0210 | Loss: 0.0195\n",
      "Epoch: 015/050 | Batch 0150/0210 | Loss: 0.0254\n",
      "Epoch: 015/050 | Batch 0200/0210 | Loss: 0.0168\n",
      "Epoch: 015/050 | Train: 99.79% | Validation: 97.90%\n",
      "Time elapsed: 3.73 min\n",
      "Epoch: 016/050 | Batch 0000/0210 | Loss: 0.0137\n",
      "Epoch: 016/050 | Batch 0050/0210 | Loss: 0.0152\n",
      "Epoch: 016/050 | Batch 0100/0210 | Loss: 0.0106\n",
      "Epoch: 016/050 | Batch 0150/0210 | Loss: 0.0109\n",
      "Epoch: 016/050 | Batch 0200/0210 | Loss: 0.0145\n",
      "Epoch: 016/050 | Train: 99.86% | Validation: 97.93%\n",
      "Time elapsed: 3.97 min\n",
      "Epoch: 017/050 | Batch 0000/0210 | Loss: 0.0030\n",
      "Epoch: 017/050 | Batch 0050/0210 | Loss: 0.0067\n",
      "Epoch: 017/050 | Batch 0100/0210 | Loss: 0.0094\n",
      "Epoch: 017/050 | Batch 0150/0210 | Loss: 0.0104\n",
      "Epoch: 017/050 | Batch 0200/0210 | Loss: 0.0134\n",
      "Epoch: 017/050 | Train: 99.95% | Validation: 98.20%\n",
      "Time elapsed: 4.22 min\n",
      "Epoch: 018/050 | Batch 0000/0210 | Loss: 0.0061\n",
      "Epoch: 018/050 | Batch 0050/0210 | Loss: 0.0178\n",
      "Epoch: 018/050 | Batch 0100/0210 | Loss: 0.0156\n",
      "Epoch: 018/050 | Batch 0150/0210 | Loss: 0.0112\n",
      "Epoch: 018/050 | Batch 0200/0210 | Loss: 0.0250\n",
      "Epoch: 018/050 | Train: 99.95% | Validation: 97.85%\n",
      "Time elapsed: 4.46 min\n",
      "Epoch: 019/050 | Batch 0000/0210 | Loss: 0.0097\n",
      "Epoch: 019/050 | Batch 0050/0210 | Loss: 0.0083\n",
      "Epoch: 019/050 | Batch 0100/0210 | Loss: 0.0116\n",
      "Epoch: 019/050 | Batch 0150/0210 | Loss: 0.0102\n",
      "Epoch: 019/050 | Batch 0200/0210 | Loss: 0.0098\n",
      "Epoch: 019/050 | Train: 99.95% | Validation: 97.82%\n",
      "Time elapsed: 4.71 min\n",
      "Epoch: 020/050 | Batch 0000/0210 | Loss: 0.0047\n",
      "Epoch: 020/050 | Batch 0050/0210 | Loss: 0.0073\n",
      "Epoch: 020/050 | Batch 0100/0210 | Loss: 0.0049\n",
      "Epoch: 020/050 | Batch 0150/0210 | Loss: 0.0090\n",
      "Epoch: 020/050 | Batch 0200/0210 | Loss: 0.0074\n",
      "Epoch: 020/050 | Train: 99.94% | Validation: 97.92%\n",
      "Time elapsed: 4.96 min\n",
      "Epoch: 021/050 | Batch 0000/0210 | Loss: 0.0105\n",
      "Epoch: 021/050 | Batch 0050/0210 | Loss: 0.0089\n",
      "Epoch: 021/050 | Batch 0100/0210 | Loss: 0.0085\n",
      "Epoch: 021/050 | Batch 0150/0210 | Loss: 0.0056\n",
      "Epoch: 021/050 | Batch 0200/0210 | Loss: 0.0108\n",
      "Epoch: 021/050 | Train: 99.97% | Validation: 97.90%\n",
      "Time elapsed: 5.21 min\n",
      "Epoch: 022/050 | Batch 0000/0210 | Loss: 0.0057\n",
      "Epoch: 022/050 | Batch 0050/0210 | Loss: 0.0048\n",
      "Epoch: 022/050 | Batch 0100/0210 | Loss: 0.0066\n",
      "Epoch: 022/050 | Batch 0150/0210 | Loss: 0.0053\n",
      "Epoch: 022/050 | Batch 0200/0210 | Loss: 0.0058\n",
      "Epoch: 022/050 | Train: 99.97% | Validation: 98.02%\n",
      "Time elapsed: 5.46 min\n",
      "Epoch: 023/050 | Batch 0000/0210 | Loss: 0.0102\n",
      "Epoch: 023/050 | Batch 0050/0210 | Loss: 0.0074\n",
      "Epoch: 023/050 | Batch 0100/0210 | Loss: 0.0040\n",
      "Epoch: 023/050 | Batch 0150/0210 | Loss: 0.0057\n",
      "Epoch: 023/050 | Batch 0200/0210 | Loss: 0.0098\n",
      "Epoch: 023/050 | Train: 99.99% | Validation: 97.93%\n",
      "Time elapsed: 5.70 min\n",
      "Epoch: 024/050 | Batch 0000/0210 | Loss: 0.0042\n",
      "Epoch: 024/050 | Batch 0050/0210 | Loss: 0.0031\n",
      "Epoch: 024/050 | Batch 0100/0210 | Loss: 0.0044\n",
      "Epoch: 024/050 | Batch 0150/0210 | Loss: 0.0058\n",
      "Epoch: 024/050 | Batch 0200/0210 | Loss: 0.0059\n",
      "Epoch: 024/050 | Train: 99.98% | Validation: 97.97%\n",
      "Time elapsed: 5.95 min\n",
      "Epoch: 025/050 | Batch 0000/0210 | Loss: 0.0030\n",
      "Epoch: 025/050 | Batch 0050/0210 | Loss: 0.0038\n",
      "Epoch: 025/050 | Batch 0100/0210 | Loss: 0.0115\n",
      "Epoch: 025/050 | Batch 0150/0210 | Loss: 0.0052\n",
      "Epoch: 025/050 | Batch 0200/0210 | Loss: 0.0046\n",
      "Epoch: 025/050 | Train: 99.98% | Validation: 97.88%\n",
      "Time elapsed: 6.20 min\n",
      "Epoch: 026/050 | Batch 0000/0210 | Loss: 0.0042\n",
      "Epoch: 026/050 | Batch 0050/0210 | Loss: 0.0067\n",
      "Epoch: 026/050 | Batch 0100/0210 | Loss: 0.0035\n",
      "Epoch: 026/050 | Batch 0150/0210 | Loss: 0.0171\n",
      "Epoch: 026/050 | Batch 0200/0210 | Loss: 0.0059\n",
      "Epoch: 026/050 | Train: 100.00% | Validation: 97.92%\n",
      "Time elapsed: 6.45 min\n",
      "Epoch: 027/050 | Batch 0000/0210 | Loss: 0.0044\n",
      "Epoch: 027/050 | Batch 0050/0210 | Loss: 0.0033\n",
      "Epoch: 027/050 | Batch 0100/0210 | Loss: 0.0031\n",
      "Epoch: 027/050 | Batch 0150/0210 | Loss: 0.0060\n",
      "Epoch: 027/050 | Batch 0200/0210 | Loss: 0.0137\n",
      "Epoch: 027/050 | Train: 100.00% | Validation: 97.75%\n",
      "Time elapsed: 6.70 min\n",
      "Epoch: 028/050 | Batch 0000/0210 | Loss: 0.0064\n",
      "Epoch: 028/050 | Batch 0050/0210 | Loss: 0.0045\n",
      "Epoch: 028/050 | Batch 0100/0210 | Loss: 0.0045\n",
      "Epoch: 028/050 | Batch 0150/0210 | Loss: 0.0125\n",
      "Epoch: 028/050 | Batch 0200/0210 | Loss: 0.0056\n",
      "Epoch: 028/050 | Train: 100.00% | Validation: 97.85%\n",
      "Time elapsed: 6.95 min\n",
      "Epoch: 029/050 | Batch 0000/0210 | Loss: 0.0030\n",
      "Epoch: 029/050 | Batch 0050/0210 | Loss: 0.0027\n",
      "Epoch: 029/050 | Batch 0100/0210 | Loss: 0.0124\n",
      "Epoch: 029/050 | Batch 0150/0210 | Loss: 0.0086\n",
      "Epoch: 029/050 | Batch 0200/0210 | Loss: 0.0020\n",
      "Epoch: 029/050 | Train: 100.00% | Validation: 98.10%\n",
      "Time elapsed: 7.20 min\n",
      "Epoch: 030/050 | Batch 0000/0210 | Loss: 0.0021\n",
      "Epoch: 030/050 | Batch 0050/0210 | Loss: 0.0044\n",
      "Epoch: 030/050 | Batch 0100/0210 | Loss: 0.0042\n",
      "Epoch: 030/050 | Batch 0150/0210 | Loss: 0.0037\n",
      "Epoch: 030/050 | Batch 0200/0210 | Loss: 0.0045\n",
      "Epoch: 030/050 | Train: 100.00% | Validation: 98.15%\n",
      "Time elapsed: 7.45 min\n",
      "Epoch: 031/050 | Batch 0000/0210 | Loss: 0.0016\n",
      "Epoch: 031/050 | Batch 0050/0210 | Loss: 0.0011\n",
      "Epoch: 031/050 | Batch 0100/0210 | Loss: 0.0028\n",
      "Epoch: 031/050 | Batch 0150/0210 | Loss: 0.0035\n",
      "Epoch: 031/050 | Batch 0200/0210 | Loss: 0.0022\n",
      "Epoch: 031/050 | Train: 100.00% | Validation: 98.00%\n",
      "Time elapsed: 7.70 min\n",
      "Epoch: 032/050 | Batch 0000/0210 | Loss: 0.0024\n",
      "Epoch: 032/050 | Batch 0050/0210 | Loss: 0.0026\n",
      "Epoch: 032/050 | Batch 0100/0210 | Loss: 0.0020\n",
      "Epoch: 032/050 | Batch 0150/0210 | Loss: 0.0040\n",
      "Epoch: 032/050 | Batch 0200/0210 | Loss: 0.0018\n",
      "Epoch: 032/050 | Train: 100.00% | Validation: 97.95%\n",
      "Time elapsed: 7.94 min\n",
      "Epoch: 033/050 | Batch 0000/0210 | Loss: 0.0048\n",
      "Epoch: 033/050 | Batch 0050/0210 | Loss: 0.0021\n",
      "Epoch: 033/050 | Batch 0100/0210 | Loss: 0.0012\n",
      "Epoch: 033/050 | Batch 0150/0210 | Loss: 0.0020\n",
      "Epoch: 033/050 | Batch 0200/0210 | Loss: 0.0023\n",
      "Epoch: 033/050 | Train: 99.99% | Validation: 97.78%\n",
      "Time elapsed: 8.19 min\n",
      "Epoch: 034/050 | Batch 0000/0210 | Loss: 0.0039\n",
      "Epoch: 034/050 | Batch 0050/0210 | Loss: 0.0035\n",
      "Epoch: 034/050 | Batch 0100/0210 | Loss: 0.0245\n",
      "Epoch: 034/050 | Batch 0150/0210 | Loss: 0.0022\n",
      "Epoch: 034/050 | Batch 0200/0210 | Loss: 0.0031\n",
      "Epoch: 034/050 | Train: 99.98% | Validation: 97.75%\n",
      "Time elapsed: 8.44 min\n",
      "Epoch: 035/050 | Batch 0000/0210 | Loss: 0.0038\n",
      "Epoch: 035/050 | Batch 0050/0210 | Loss: 0.0046\n",
      "Epoch: 035/050 | Batch 0100/0210 | Loss: 0.0042\n",
      "Epoch: 035/050 | Batch 0150/0210 | Loss: 0.0024\n",
      "Epoch: 035/050 | Batch 0200/0210 | Loss: 0.0045\n",
      "Epoch: 035/050 | Train: 100.00% | Validation: 97.88%\n",
      "Time elapsed: 8.69 min\n",
      "Epoch: 036/050 | Batch 0000/0210 | Loss: 0.0015\n",
      "Epoch: 036/050 | Batch 0050/0210 | Loss: 0.0028\n",
      "Epoch: 036/050 | Batch 0100/0210 | Loss: 0.0031\n",
      "Epoch: 036/050 | Batch 0150/0210 | Loss: 0.0010\n",
      "Epoch: 036/050 | Batch 0200/0210 | Loss: 0.0023\n",
      "Epoch: 036/050 | Train: 100.00% | Validation: 97.92%\n",
      "Time elapsed: 8.94 min\n",
      "Epoch: 037/050 | Batch 0000/0210 | Loss: 0.0015\n",
      "Epoch: 037/050 | Batch 0050/0210 | Loss: 0.0058\n",
      "Epoch: 037/050 | Batch 0100/0210 | Loss: 0.0033\n",
      "Epoch: 037/050 | Batch 0150/0210 | Loss: 0.0025\n",
      "Epoch: 037/050 | Batch 0200/0210 | Loss: 0.0018\n",
      "Epoch: 037/050 | Train: 100.00% | Validation: 97.98%\n",
      "Time elapsed: 9.19 min\n",
      "Epoch: 038/050 | Batch 0000/0210 | Loss: 0.0036\n",
      "Epoch: 038/050 | Batch 0050/0210 | Loss: 0.0043\n",
      "Epoch: 038/050 | Batch 0100/0210 | Loss: 0.0039\n",
      "Epoch: 038/050 | Batch 0150/0210 | Loss: 0.0022\n",
      "Epoch: 038/050 | Batch 0200/0210 | Loss: 0.0016\n",
      "Epoch: 038/050 | Train: 100.00% | Validation: 97.88%\n",
      "Time elapsed: 9.44 min\n",
      "Epoch: 039/050 | Batch 0000/0210 | Loss: 0.0057\n",
      "Epoch: 039/050 | Batch 0050/0210 | Loss: 0.0021\n",
      "Epoch: 039/050 | Batch 0100/0210 | Loss: 0.0078\n",
      "Epoch: 039/050 | Batch 0150/0210 | Loss: 0.0015\n",
      "Epoch: 039/050 | Batch 0200/0210 | Loss: 0.0045\n",
      "Epoch: 039/050 | Train: 99.89% | Validation: 97.77%\n",
      "Time elapsed: 9.68 min\n",
      "Epoch: 040/050 | Batch 0000/0210 | Loss: 0.0049\n",
      "Epoch: 040/050 | Batch 0050/0210 | Loss: 0.0022\n",
      "Epoch: 040/050 | Batch 0100/0210 | Loss: 0.0009\n",
      "Epoch: 040/050 | Batch 0150/0210 | Loss: 0.0080\n",
      "Epoch: 040/050 | Batch 0200/0210 | Loss: 0.0011\n",
      "Epoch: 040/050 | Train: 100.00% | Validation: 97.92%\n",
      "Time elapsed: 9.93 min\n",
      "Epoch: 041/050 | Batch 0000/0210 | Loss: 0.0018\n",
      "Epoch: 041/050 | Batch 0050/0210 | Loss: 0.0065\n",
      "Epoch: 041/050 | Batch 0100/0210 | Loss: 0.0033\n",
      "Epoch: 041/050 | Batch 0150/0210 | Loss: 0.0016\n",
      "Epoch: 041/050 | Batch 0200/0210 | Loss: 0.0022\n",
      "Epoch: 041/050 | Train: 100.00% | Validation: 97.87%\n",
      "Time elapsed: 10.19 min\n",
      "Epoch: 042/050 | Batch 0000/0210 | Loss: 0.0018\n",
      "Epoch: 042/050 | Batch 0050/0210 | Loss: 0.0027\n",
      "Epoch: 042/050 | Batch 0100/0210 | Loss: 0.0011\n",
      "Epoch: 042/050 | Batch 0150/0210 | Loss: 0.0005\n",
      "Epoch: 042/050 | Batch 0200/0210 | Loss: 0.0021\n",
      "Epoch: 042/050 | Train: 100.00% | Validation: 98.05%\n",
      "Time elapsed: 10.44 min\n",
      "Epoch: 043/050 | Batch 0000/0210 | Loss: 0.0020\n",
      "Epoch: 043/050 | Batch 0050/0210 | Loss: 0.0011\n",
      "Epoch: 043/050 | Batch 0100/0210 | Loss: 0.0028\n",
      "Epoch: 043/050 | Batch 0150/0210 | Loss: 0.0023\n",
      "Epoch: 043/050 | Batch 0200/0210 | Loss: 0.0019\n",
      "Epoch: 043/050 | Train: 100.00% | Validation: 97.90%\n",
      "Time elapsed: 10.69 min\n",
      "Epoch: 044/050 | Batch 0000/0210 | Loss: 0.0020\n",
      "Epoch: 044/050 | Batch 0050/0210 | Loss: 0.0051\n",
      "Epoch: 044/050 | Batch 0100/0210 | Loss: 0.0014\n",
      "Epoch: 044/050 | Batch 0150/0210 | Loss: 0.0012\n",
      "Epoch: 044/050 | Batch 0200/0210 | Loss: 0.0018\n",
      "Epoch: 044/050 | Train: 100.00% | Validation: 97.90%\n",
      "Time elapsed: 10.94 min\n",
      "Epoch: 045/050 | Batch 0000/0210 | Loss: 0.0013\n",
      "Epoch: 045/050 | Batch 0050/0210 | Loss: 0.0063\n",
      "Epoch: 045/050 | Batch 0100/0210 | Loss: 0.0009\n",
      "Epoch: 045/050 | Batch 0150/0210 | Loss: 0.0013\n",
      "Epoch: 045/050 | Batch 0200/0210 | Loss: 0.0014\n",
      "Epoch: 045/050 | Train: 100.00% | Validation: 98.00%\n",
      "Time elapsed: 11.18 min\n",
      "Epoch: 046/050 | Batch 0000/0210 | Loss: 0.0024\n",
      "Epoch: 046/050 | Batch 0050/0210 | Loss: 0.0011\n",
      "Epoch: 046/050 | Batch 0100/0210 | Loss: 0.0032\n",
      "Epoch: 046/050 | Batch 0150/0210 | Loss: 0.0012\n",
      "Epoch: 046/050 | Batch 0200/0210 | Loss: 0.0017\n",
      "Epoch: 046/050 | Train: 100.00% | Validation: 98.02%\n",
      "Time elapsed: 11.43 min\n",
      "Epoch: 047/050 | Batch 0000/0210 | Loss: 0.0068\n",
      "Epoch: 047/050 | Batch 0050/0210 | Loss: 0.0030\n",
      "Epoch: 047/050 | Batch 0100/0210 | Loss: 0.0015\n",
      "Epoch: 047/050 | Batch 0150/0210 | Loss: 0.0017\n",
      "Epoch: 047/050 | Batch 0200/0210 | Loss: 0.0011\n",
      "Epoch: 047/050 | Train: 99.99% | Validation: 97.88%\n",
      "Time elapsed: 11.68 min\n",
      "Epoch: 048/050 | Batch 0000/0210 | Loss: 0.0018\n",
      "Epoch: 048/050 | Batch 0050/0210 | Loss: 0.0017\n",
      "Epoch: 048/050 | Batch 0100/0210 | Loss: 0.0020\n",
      "Epoch: 048/050 | Batch 0150/0210 | Loss: 0.0016\n",
      "Epoch: 048/050 | Batch 0200/0210 | Loss: 0.0042\n",
      "Epoch: 048/050 | Train: 100.00% | Validation: 97.88%\n",
      "Time elapsed: 11.92 min\n",
      "Epoch: 049/050 | Batch 0000/0210 | Loss: 0.0008\n",
      "Epoch: 049/050 | Batch 0050/0210 | Loss: 0.0019\n",
      "Epoch: 049/050 | Batch 0100/0210 | Loss: 0.0014\n",
      "Epoch: 049/050 | Batch 0150/0210 | Loss: 0.0011\n",
      "Epoch: 049/050 | Batch 0200/0210 | Loss: 0.0020\n",
      "Epoch: 049/050 | Train: 100.00% | Validation: 97.87%\n",
      "Time elapsed: 12.17 min\n",
      "Epoch: 050/050 | Batch 0000/0210 | Loss: 0.0018\n",
      "Epoch: 050/050 | Batch 0050/0210 | Loss: 0.0008\n",
      "Epoch: 050/050 | Batch 0100/0210 | Loss: 0.0020\n",
      "Epoch: 050/050 | Batch 0150/0210 | Loss: 0.0009\n",
      "Epoch: 050/050 | Batch 0200/0210 | Loss: 0.0008\n",
      "Epoch: 050/050 | Train: 100.00% | Validation: 98.00%\n",
      "Time elapsed: 12.41 min\n",
      "Total Training Time: 12.41 min\n",
      "Test accuracy 97.75%\n"
     ]
    },
    {
     "data": {
      "image/png": "[encoded data removed]",
      "text/plain": [
       "<Figure size 640x480 with 2 Axes>"
      ]
     },
     "metadata": {},
     "output_type": "display_data"
    },
    {
     "data": {
      "image/png": "[encoded data removed]",
      "text/plain": [
       "<Figure size 640x480 with 1 Axes>"
      ]
     },
     "metadata": {},
     "output_type": "display_data"
    }
   ],
   "source": [
    "torch.manual_seed(RANDOM_SEED)\n",
    "model = MultilayerPerceptron(num_features=28*28,\n",
    "                             num_hidden_1=NUM_HIDDEN_1,\n",
    "                             num_hidden_2=NUM_HIDDEN_2,\n",
    "                             drop_proba=0.5,\n",
    "                             num_classes=10)\n",
    "model = model.to(DEVICE)\n",
    "\n",
    "optimizer = torch.optim.SGD(model.parameters(), lr=0.1)\n",
    "\n",
    "minibatch_loss_list, train_acc_list, valid_acc_list = train_model(\n",
    "    model=model,\n",
    "    num_epochs=NUM_EPOCHS,\n",
    "    train_loader=train_loader,\n",
    "    valid_loader=valid_loader,\n",
    "    test_loader=test_loader,\n",
    "    optimizer=optimizer,\n",
    "    device=DEVICE)\n",
    "\n",
    "plot_training_loss(minibatch_loss_list=minibatch_loss_list,\n",
    "                   num_epochs=NUM_EPOCHS,\n",
    "                   iter_per_epoch=len(train_loader),\n",
    "                   results_dir=None,\n",
    "                   averaging_iterations=20)\n",
    "plt.show()\n",
    "\n",
    "plot_accuracy(train_acc_list=train_acc_list,\n",
    "              valid_acc_list=valid_acc_list,\n",
    "              results_dir=None)\n",
    "plt.ylim([80, 100])\n",
    "plt.show()"
   ]
  },
  {
   "cell_type": "code",
   "execution_count": 8,
   "metadata": {
    "colab": {
     "base_uri": "https://localhost:8080/"
    },
    "executionInfo": {
     "elapsed": 1662,
     "status": "ok",
     "timestamp": 1633105193240,
     "user": {
      "displayName": "Juan David Martinez Vargas",
      "photoUrl": "https://lh3.googleusercontent.com/a/default-user=s64",
      "userId": "10271309777444916336"
     },
     "user_tz": 300
    },
    "id": "sIUZT-2HpLlg",
    "metadata": {},
    "outputId": "b82dbd0b-2e12-4bf8-8a4a-c56e93fe99cd"
   },
   "outputs": [
    {
     "name": "stdout",
     "output_type": "stream",
     "text": [
      "tensor(97.7500, device='cuda:0')\n"
     ]
    }
   ],
   "source": [
    "test_acc= compute_accuracy(model, test_loader, device= DEVICE)\n",
    "print(test_acc)"
   ]
  }
 ],
 "metadata": {
  "accelerator": "GPU",
  "colab": {
   "name": "batchnorm.ipynb",
   "provenance": []
  },
  "kernelspec": {
   "display_name": "IA_ITM",
   "language": "python",
   "name": "python3"
  },
  "language_info": {
   "codemirror_mode": {
    "name": "ipython",
    "version": 3
   },
   "file_extension": ".py",
   "mimetype": "text/x-python",
   "name": "python",
   "nbconvert_exporter": "python",
   "pygments_lexer": "ipython3",
   "version": "3.10.12"
  },
  "toc": {
   "nav_menu": {},
   "number_sections": true,
   "sideBar": true,
   "skip_h1_title": false,
   "title_cell": "Table of Contents",
   "title_sidebar": "Contents",
   "toc_cell": false,
   "toc_position": {},
   "toc_section_display": true,
   "toc_window_display": false
  }
 },
 "nbformat": 4,
 "nbformat_minor": 4
}
