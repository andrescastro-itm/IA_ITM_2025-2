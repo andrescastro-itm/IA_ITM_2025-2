{
 "cells": [
  {
   "cell_type": "markdown",
   "id": "0d69cfc1",
   "metadata": {},
   "source": [
    "Thanks to: Sebastian Raschka (sraschka@wisc.edu)  \n",
    "\n",
    "---"
   ]
  },
  {
   "cell_type": "code",
   "execution_count": 1,
   "id": "0b98f3fa",
   "metadata": {},
   "outputs": [],
   "source": [
    "from scipy.signal import correlate2d, convolve2d\n",
    "import torch"
   ]
  },
  {
   "cell_type": "code",
   "execution_count": 2,
   "id": "cd6a8a14",
   "metadata": {},
   "outputs": [],
   "source": [
    "a = torch.tensor([[1.1, 1.2, 1.3],\n",
    "                  [2.1, 2.2, 2.3],\n",
    "                  [3.1, 3.2, 3.3]])"
   ]
  },
  {
   "cell_type": "code",
   "execution_count": 3,
   "id": "fcaa5d66",
   "metadata": {},
   "outputs": [
    {
     "name": "stdout",
     "output_type": "stream",
     "text": [
      "torch.Size([3, 3])\n"
     ]
    }
   ],
   "source": [
    "print(a.shape)"
   ]
  },
  {
   "cell_type": "code",
   "execution_count": 4,
   "id": "0c073ec8",
   "metadata": {},
   "outputs": [
    {
     "data": {
      "text/plain": [
       "Parameter containing:\n",
       "tensor([[[[ 0.2810,  0.2938,  0.0777],\n",
       "          [-0.0454,  0.2108,  0.3242],\n",
       "          [-0.1402, -0.2465,  0.1306]]]], requires_grad=True)"
      ]
     },
     "execution_count": 4,
     "metadata": {},
     "output_type": "execute_result"
    }
   ],
   "source": [
    "conv_pytorch = torch.nn.Conv2d(in_channels=1, out_channels=1, kernel_size=(3, 3))\n",
    "with torch.no_grad():\n",
    "    conv_pytorch.bias.zero_()\n",
    "    \n",
    "conv_pytorch.weight"
   ]
  },
  {
   "cell_type": "code",
   "execution_count": 5,
   "id": "fdf56482",
   "metadata": {},
   "outputs": [
    {
     "data": {
      "text/plain": [
       "array([[ 0.28095603,  0.29378068,  0.0777487 ],\n",
       "       [-0.04544958,  0.21081042,  0.3241987 ],\n",
       "       [-0.14024961, -0.24645063,  0.13055484]], dtype=float32)"
      ]
     },
     "execution_count": 5,
     "metadata": {},
     "output_type": "execute_result"
    }
   ],
   "source": [
    "conv_weight_numpy = conv_pytorch.weight.detach().numpy().reshape(3, 3)\n",
    "conv_weight_numpy"
   ]
  },
  {
   "cell_type": "markdown",
   "id": "928115cd",
   "metadata": {},
   "source": [
    "## Cross-correlation"
   ]
  },
  {
   "cell_type": "code",
   "execution_count": 6,
   "id": "3268a1a9",
   "metadata": {},
   "outputs": [
    {
     "data": {
      "text/plain": [
       "tensor([[[[1.0841]]]], grad_fn=<ConvolutionBackward0>)"
      ]
     },
     "execution_count": 6,
     "metadata": {},
     "output_type": "execute_result"
    }
   ],
   "source": [
    "conv_pytorch(a.view(1, 1, 3, 3))"
   ]
  },
  {
   "cell_type": "code",
   "execution_count": 7,
   "id": "d3cf566c",
   "metadata": {},
   "outputs": [
    {
     "data": {
      "text/plain": [
       "array([[1.0840727]], dtype=float32)"
      ]
     },
     "execution_count": 7,
     "metadata": {},
     "output_type": "execute_result"
    }
   ],
   "source": [
    "correlate2d(a.numpy(), conv_weight_numpy, mode='valid')"
   ]
  },
  {
   "cell_type": "markdown",
   "id": "daac7870",
   "metadata": {},
   "source": [
    "# Real convolution"
   ]
  },
  {
   "cell_type": "code",
   "execution_count": 8,
   "id": "001bd93b",
   "metadata": {},
   "outputs": [
    {
     "data": {
      "text/plain": [
       "array([[2.8138852]], dtype=float32)"
      ]
     },
     "execution_count": 8,
     "metadata": {},
     "output_type": "execute_result"
    }
   ],
   "source": [
    "convolve2d(a.numpy(), conv_weight_numpy, mode='valid')"
   ]
  },
  {
   "cell_type": "code",
   "execution_count": 9,
   "id": "e4836338",
   "metadata": {},
   "outputs": [
    {
     "data": {
      "text/plain": [
       "tensor([[[[2.8139]]]], grad_fn=<ConvolutionBackward0>)"
      ]
     },
     "execution_count": 9,
     "metadata": {},
     "output_type": "execute_result"
    }
   ],
   "source": [
    "a_mod = torch.tensor([[3.3, 3.2, 3.1],\n",
    "                      [2.3, 2.2, 2.1],\n",
    "                      [1.3, 1.2, 1.1]])\n",
    "\n",
    "\n",
    "conv_pytorch(a_mod.view(1, 1, 3, 3))"
   ]
  }
 ],
 "metadata": {
  "kernelspec": {
   "display_name": "IA_ITM",
   "language": "python",
   "name": "python3"
  },
  "language_info": {
   "codemirror_mode": {
    "name": "ipython",
    "version": 3
   },
   "file_extension": ".py",
   "mimetype": "text/x-python",
   "name": "python",
   "nbconvert_exporter": "python",
   "pygments_lexer": "ipython3",
   "version": "3.10.12"
  }
 },
 "nbformat": 4,
 "nbformat_minor": 5
}
