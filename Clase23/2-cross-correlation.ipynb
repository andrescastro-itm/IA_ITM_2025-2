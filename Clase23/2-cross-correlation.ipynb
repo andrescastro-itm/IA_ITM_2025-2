{
 "cells": [
  {
   "cell_type": "markdown",
   "id": "0d69cfc1",
   "metadata": {},
   "source": [
    "Thanks to: Sebastian Raschka (sraschka@wisc.edu)  \n",
    "\n",
    "---"
   ]
  },
  {
   "cell_type": "code",
   "execution_count": 1,
   "id": "0b98f3fa",
   "metadata": {},
   "outputs": [],
   "source": [
    "from scipy.signal import correlate2d, convolve2d\n",
    "import torch"
   ]
  },
  {
   "cell_type": "code",
   "execution_count": 2,
   "id": "cd6a8a14",
   "metadata": {},
   "outputs": [],
   "source": [
    "a = torch.tensor([[1.1, 1.2, 1.3],\n",
    "                  [2.1, 2.2, 2.3],\n",
    "                  [3.1, 3.2, 3.3]])"
   ]
  },
  {
   "cell_type": "code",
   "execution_count": 3,
   "id": "fcaa5d66",
   "metadata": {},
   "outputs": [
    {
     "name": "stdout",
     "output_type": "stream",
     "text": [
      "torch.Size([3, 3])\n"
     ]
    }
   ],
   "source": [
    "print(a.shape)"
   ]
  },
  {
   "cell_type": "code",
   "execution_count": 4,
   "id": "0c073ec8",
   "metadata": {},
   "outputs": [
    {
     "data": {
      "text/plain": [
       "Parameter containing:\n",
       "tensor([[[[ 0.1333,  0.3063,  0.0707],\n",
       "          [-0.0289,  0.1689, -0.3029],\n",
       "          [-0.3290,  0.0066, -0.3108]]]], requires_grad=True)"
      ]
     },
     "execution_count": 4,
     "metadata": {},
     "output_type": "execute_result"
    }
   ],
   "source": [
    "conv_pytorch = torch.nn.Conv2d(in_channels=1, out_channels=1, kernel_size=(3, 3))\n",
    "with torch.no_grad():\n",
    "    conv_pytorch.bias.zero_()\n",
    "    \n",
    "conv_pytorch.weight"
   ]
  },
  {
   "cell_type": "code",
   "execution_count": 5,
   "id": "fdf56482",
   "metadata": {},
   "outputs": [
    {
     "data": {
      "text/plain": [
       "array([[ 0.13331592,  0.30631295,  0.07068673],\n",
       "       [-0.02890083,  0.16890314, -0.3029177 ],\n",
       "       [-0.32898784,  0.00657824, -0.31079137]], dtype=float32)"
      ]
     },
     "execution_count": 5,
     "metadata": {},
     "output_type": "execute_result"
    }
   ],
   "source": [
    "conv_weight_numpy = conv_pytorch.weight.detach().numpy().reshape(3, 3)\n",
    "conv_weight_numpy"
   ]
  },
  {
   "cell_type": "markdown",
   "id": "928115cd",
   "metadata": {},
   "source": [
    "## Cross-correlation"
   ]
  },
  {
   "cell_type": "code",
   "execution_count": 6,
   "id": "3268a1a9",
   "metadata": {},
   "outputs": [
    {
     "data": {
      "text/plain": [
       "tensor([[[[-1.8041]]]], grad_fn=<ConvolutionBackward0>)"
      ]
     },
     "execution_count": 6,
     "metadata": {},
     "output_type": "execute_result"
    }
   ],
   "source": [
    "conv_pytorch(a.view(1, 1, 3, 3))"
   ]
  },
  {
   "cell_type": "code",
   "execution_count": 7,
   "id": "d3cf566c",
   "metadata": {},
   "outputs": [
    {
     "data": {
      "text/plain": [
       "array([[-1.8041232]], dtype=float32)"
      ]
     },
     "execution_count": 7,
     "metadata": {},
     "output_type": "execute_result"
    }
   ],
   "source": [
    "correlate2d(a.numpy(), conv_weight_numpy, mode='valid')"
   ]
  },
  {
   "cell_type": "markdown",
   "id": "daac7870",
   "metadata": {},
   "source": [
    "# Real convolution"
   ]
  },
  {
   "cell_type": "code",
   "execution_count": 8,
   "id": "001bd93b",
   "metadata": {},
   "outputs": [
    {
     "data": {
      "text/plain": [
       "array([[0.54659986]], dtype=float32)"
      ]
     },
     "execution_count": 8,
     "metadata": {},
     "output_type": "execute_result"
    }
   ],
   "source": [
    "convolve2d(a.numpy(), conv_weight_numpy, mode='valid')"
   ]
  },
  {
   "cell_type": "code",
   "execution_count": 9,
   "id": "e4836338",
   "metadata": {},
   "outputs": [
    {
     "data": {
      "text/plain": [
       "tensor([[[[0.5466]]]], grad_fn=<ConvolutionBackward0>)"
      ]
     },
     "execution_count": 9,
     "metadata": {},
     "output_type": "execute_result"
    }
   ],
   "source": [
    "a_mod = torch.tensor([[3.3, 3.2, 3.1],\n",
    "                      [2.3, 2.2, 2.1],\n",
    "                      [1.3, 1.2, 1.1]])\n",
    "\n",
    "\n",
    "conv_pytorch(a_mod.view(1, 1, 3, 3))"
   ]
  },
  {
   "cell_type": "code",
   "execution_count": null,
   "id": "def980de",
   "metadata": {},
   "outputs": [],
   "source": []
  }
 ],
 "metadata": {
  "kernelspec": {
   "display_name": "Python 3 (ipykernel)",
   "language": "python",
   "name": "python3"
  },
  "language_info": {
   "codemirror_mode": {
    "name": "ipython",
    "version": 3
   },
   "file_extension": ".py",
   "mimetype": "text/x-python",
   "name": "python",
   "nbconvert_exporter": "python",
   "pygments_lexer": "ipython3",
   "version": "3.10.12"
  }
 },
 "nbformat": 4,
 "nbformat_minor": 5
}
