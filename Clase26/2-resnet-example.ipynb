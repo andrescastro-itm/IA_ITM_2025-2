{
 "cells": [
  {
   "cell_type": "markdown",
   "metadata": {
    "id": "bK92ZaV0fI14"
   },
   "source": [
    "Thanks to: Sebastian Raschka (sraschka@wisc.edu)  \n",
    "\n",
    "---\n"
   ]
  },
  {
   "cell_type": "markdown",
   "metadata": {
    "id": "oLZdegDFfI2A"
   },
   "source": [
    "# A Convolutional ResNet and Residual Blocks"
   ]
  },
  {
   "cell_type": "markdown",
   "metadata": {
    "id": "DRNVCQQTfI2B"
   },
   "source": [
    "Please note that this example does not implement a really deep ResNet as described in literature but rather illustrates how the residual blocks described in He et al. [1] can be implemented in PyTorch.\n",
    "\n",
    "- [1] He, Kaiming, et al. \"Deep residual learning for image recognition.\" *Proceedings of the IEEE conference on computer vision and pattern recognition*. 2016."
   ]
  },
  {
   "cell_type": "markdown",
   "metadata": {
    "id": "IQp8SrNhfI2B"
   },
   "source": [
    "## Imports"
   ]
  },
  {
   "cell_type": "code",
   "execution_count": 1,
   "metadata": {
    "id": "vLkktw_SfI2C"
   },
   "outputs": [],
   "source": [
    "import time\n",
    "import numpy as np\n",
    "import torch\n",
    "from torch.utils.data import DataLoader\n",
    "from torchvision import datasets\n",
    "from torchvision import transforms"
   ]
  },
  {
   "cell_type": "markdown",
   "metadata": {
    "id": "ao13dn1XfI2C"
   },
   "source": [
    "## Settings and Dataset"
   ]
  },
  {
   "cell_type": "code",
   "execution_count": 2,
   "metadata": {
    "id": "uuY5jX-EfI2C",
    "outputId": "f3fe261c-dbbc-4829-ceee-3376600bb648"
   },
   "outputs": [
    {
     "name": "stdout",
     "output_type": "stream",
     "text": [
      "Image batch dimensions: torch.Size([128, 1, 28, 28])\n",
      "Image label dimensions: torch.Size([128])\n"
     ]
    }
   ],
   "source": [
    "##########################\n",
    "### SETTINGS\n",
    "##########################\n",
    "\n",
    "# Device\n",
    "device = torch.device(\"cuda:0\" if torch.cuda.is_available() else \"cpu\")\n",
    "\n",
    "# Hyperparameters\n",
    "random_seed = 123\n",
    "learning_rate = 0.01\n",
    "num_epochs = 10\n",
    "batch_size = 128\n",
    "\n",
    "# Architecture\n",
    "num_classes = 10\n",
    "\n",
    "\n",
    "##########################\n",
    "### MNIST DATASET\n",
    "##########################\n",
    "\n",
    "# Note transforms.ToTensor() scales input images\n",
    "# to 0-1 range\n",
    "train_dataset = datasets.MNIST(root='data', \n",
    "                               train=True, \n",
    "                               transform=transforms.ToTensor(),\n",
    "                               download=True)\n",
    "\n",
    "test_dataset = datasets.MNIST(root='data', \n",
    "                              train=False, \n",
    "                              transform=transforms.ToTensor())\n",
    "\n",
    "\n",
    "train_loader = DataLoader(dataset=train_dataset, \n",
    "                          batch_size=batch_size, \n",
    "                          shuffle=True)\n",
    "\n",
    "test_loader = DataLoader(dataset=test_dataset, \n",
    "                         batch_size=batch_size, \n",
    "                         shuffle=False)\n",
    "\n",
    "# Checking the dataset\n",
    "for images, labels in train_loader:  \n",
    "    print('Image batch dimensions:', images.shape)\n",
    "    print('Image label dimensions:', labels.shape)\n",
    "    break"
   ]
  },
  {
   "cell_type": "markdown",
   "metadata": {
    "id": "AseMsnyrfI2D"
   },
   "source": [
    "## ResNet with identity blocks"
   ]
  },
  {
   "cell_type": "markdown",
   "metadata": {
    "id": "u1LH9xyBfI2E"
   },
   "source": [
    "The following code implements the residual blocks with skip connections such that the input passed via the shortcut matches the dimensions of the main path's output, which allows the network to learn identity functions. Such a residual block is illustrated below:\n",
    "\n",
    "![](./2-resnet-ex/resnet-ex-1-1.png)"
   ]
  },
  {
   "cell_type": "code",
   "execution_count": 3,
   "metadata": {
    "id": "HI4vlSv2fI2F",
    "tags": []
   },
   "outputs": [],
   "source": [
    "##########################\n",
    "### MODEL\n",
    "##########################\n",
    "\n",
    "\n",
    "class ConvNet(torch.nn.Module):\n",
    "\n",
    "    def __init__(self, num_classes):\n",
    "        super(ConvNet, self).__init__()\n",
    "        \n",
    "        #########################\n",
    "        ### 1st residual block\n",
    "        #########################\n",
    "        \n",
    "        self.block_1 = torch.nn.Sequential(\n",
    "                torch.nn.Conv2d(in_channels=1,\n",
    "                                out_channels=4,\n",
    "                                kernel_size=(1, 1),\n",
    "                                stride=(1, 1),\n",
    "                                padding=0),\n",
    "                torch.nn.BatchNorm2d(4),\n",
    "                torch.nn.ReLU(inplace=True),\n",
    "                torch.nn.Conv2d(in_channels=4,\n",
    "                                out_channels=1,\n",
    "                                kernel_size=(3, 3),\n",
    "                                stride=(1, 1),\n",
    "                                padding=1),\n",
    "                torch.nn.BatchNorm2d(1)\n",
    "        )\n",
    "        \n",
    "        self.block_2 = torch.nn.Sequential(\n",
    "                torch.nn.Conv2d(in_channels=1,\n",
    "                                out_channels=4,\n",
    "                                kernel_size=(1, 1),\n",
    "                                stride=(1, 1),\n",
    "                                padding=0),\n",
    "                torch.nn.BatchNorm2d(4),\n",
    "                torch.nn.ReLU(inplace=True),\n",
    "                torch.nn.Conv2d(in_channels=4,\n",
    "                                out_channels=1,\n",
    "                                kernel_size=(3, 3),\n",
    "                                stride=(1, 1),\n",
    "                                padding=1),\n",
    "                torch.nn.BatchNorm2d(1)\n",
    "        )\n",
    "\n",
    "        #########################\n",
    "        ### Fully connected\n",
    "        #########################        \n",
    "        self.linear_1 = torch.nn.Linear(1*28*28, num_classes)\n",
    "\n",
    "        \n",
    "    def forward(self, x):\n",
    "        \n",
    "        #########################\n",
    "        ### 1st residual block\n",
    "        #########################\n",
    "        shortcut = x.clone()\n",
    "        x = self.block_1(x)\n",
    "        x = torch.nn.functional.relu(x + shortcut)\n",
    "        \n",
    "        #########################\n",
    "        ### 2nd residual block\n",
    "        #########################\n",
    "        shortcut = x.clone()\n",
    "        x = self.block_2(x)\n",
    "        x = torch.nn.functional.relu(x + shortcut)\n",
    "        \n",
    "        #########################\n",
    "        ### Fully connected\n",
    "        #########################\n",
    "        logits = self.linear_1(x.view(-1,  1*28*28))\n",
    "        return logits\n",
    "\n",
    "    \n",
    "torch.manual_seed(random_seed)\n",
    "model = ConvNet(num_classes=num_classes)\n",
    "model = model.to(device)\n",
    "    \n",
    "optimizer = torch.optim.Adam(model.parameters(), lr=learning_rate)  "
   ]
  },
  {
   "cell_type": "markdown",
   "metadata": {
    "id": "i_j-L2oSfI2F"
   },
   "source": [
    "### Training"
   ]
  },
  {
   "cell_type": "code",
   "execution_count": 4,
   "metadata": {
    "id": "v4_kA7ILfI2F",
    "outputId": "38adf70b-f946-4f73-fb26-a67c1ca2833e"
   },
   "outputs": [
    {
     "name": "stdout",
     "output_type": "stream",
     "text": [
      "Epoch: 001/010 | Batch 000/469 | Cost: 2.6800\n",
      "Epoch: 001/010 | Batch 250/469 | Cost: 0.3129\n",
      "Epoch: 001/010 training accuracy: 91.37%\n",
      "Time elapsed: 0.35 min\n",
      "Epoch: 002/010 | Batch 000/469 | Cost: 0.3264\n",
      "Epoch: 002/010 | Batch 250/469 | Cost: 0.2059\n",
      "Epoch: 002/010 training accuracy: 92.43%\n",
      "Time elapsed: 0.69 min\n",
      "Epoch: 003/010 | Batch 000/469 | Cost: 0.2034\n",
      "Epoch: 003/010 | Batch 250/469 | Cost: 0.2798\n",
      "Epoch: 003/010 training accuracy: 84.74%\n",
      "Time elapsed: 1.02 min\n",
      "Epoch: 004/010 | Batch 000/469 | Cost: 0.2846\n",
      "Epoch: 004/010 | Batch 250/469 | Cost: 0.2986\n",
      "Epoch: 004/010 training accuracy: 92.84%\n",
      "Time elapsed: 1.35 min\n",
      "Epoch: 005/010 | Batch 000/469 | Cost: 0.3578\n",
      "Epoch: 005/010 | Batch 250/469 | Cost: 0.2764\n",
      "Epoch: 005/010 training accuracy: 92.63%\n",
      "Time elapsed: 1.68 min\n",
      "Epoch: 006/010 | Batch 000/469 | Cost: 0.2601\n",
      "Epoch: 006/010 | Batch 250/469 | Cost: 0.2332\n",
      "Epoch: 006/010 training accuracy: 93.20%\n",
      "Time elapsed: 2.01 min\n",
      "Epoch: 007/010 | Batch 000/469 | Cost: 0.2241\n",
      "Epoch: 007/010 | Batch 250/469 | Cost: 0.1652\n",
      "Epoch: 007/010 training accuracy: 93.45%\n",
      "Time elapsed: 2.35 min\n",
      "Epoch: 008/010 | Batch 000/469 | Cost: 0.3966\n",
      "Epoch: 008/010 | Batch 250/469 | Cost: 0.3135\n",
      "Epoch: 008/010 training accuracy: 92.81%\n",
      "Time elapsed: 2.68 min\n",
      "Epoch: 009/010 | Batch 000/469 | Cost: 0.2425\n",
      "Epoch: 009/010 | Batch 250/469 | Cost: 0.1798\n",
      "Epoch: 009/010 training accuracy: 93.72%\n",
      "Time elapsed: 3.02 min\n",
      "Epoch: 010/010 | Batch 000/469 | Cost: 0.1359\n",
      "Epoch: 010/010 | Batch 250/469 | Cost: 0.2983\n",
      "Epoch: 010/010 training accuracy: 93.41%\n",
      "Time elapsed: 3.34 min\n",
      "Total Training Time: 3.34 min\n"
     ]
    }
   ],
   "source": [
    "def compute_accuracy(model, data_loader):\n",
    "    correct_pred, num_examples = 0, 0\n",
    "    for i, (features, targets) in enumerate(data_loader):            \n",
    "        features = features.to(device)\n",
    "        targets = targets.to(device)\n",
    "        logits = model(features)\n",
    "        _, predicted_labels = torch.max(logits, 1)\n",
    "        num_examples += targets.size(0)\n",
    "        correct_pred += (predicted_labels == targets).sum()\n",
    "    return correct_pred.float()/num_examples * 100\n",
    "\n",
    "\n",
    "start_time = time.time()\n",
    "for epoch in range(num_epochs):\n",
    "    model = model.train()\n",
    "    for batch_idx, (features, targets) in enumerate(train_loader):\n",
    "        \n",
    "        features = features.to(device)\n",
    "        targets = targets.to(device)\n",
    "        \n",
    "        ### FORWARD AND BACK PROP\n",
    "        logits = model(features)\n",
    "        cost = torch.nn.functional.cross_entropy(logits, targets)\n",
    "        optimizer.zero_grad()\n",
    "        \n",
    "        cost.backward()\n",
    "        \n",
    "        ### UPDATE MODEL PARAMETERS\n",
    "        optimizer.step()\n",
    "        \n",
    "        ### LOGGING\n",
    "        if not batch_idx % 250:\n",
    "            print ('Epoch: %03d/%03d | Batch %03d/%03d | Cost: %.4f' \n",
    "                   %(epoch+1, num_epochs, batch_idx, \n",
    "                     len(train_loader), cost))\n",
    "\n",
    "    model = model.eval() # eval mode to prevent upd. batchnorm params during inference\n",
    "    with torch.set_grad_enabled(False): # save memory during inference\n",
    "        print('Epoch: %03d/%03d training accuracy: %.2f%%' % (\n",
    "              epoch+1, num_epochs, \n",
    "              compute_accuracy(model, train_loader)))\n",
    "\n",
    "    print('Time elapsed: %.2f min' % ((time.time() - start_time)/60))\n",
    "    \n",
    "print('Total Training Time: %.2f min' % ((time.time() - start_time)/60))"
   ]
  },
  {
   "cell_type": "code",
   "execution_count": 5,
   "metadata": {
    "id": "bIWtewOIfI2G",
    "outputId": "822c162f-8683-435a-8956-dbc93b0a051e"
   },
   "outputs": [
    {
     "name": "stdout",
     "output_type": "stream",
     "text": [
      "Test accuracy: 92.08%\n"
     ]
    }
   ],
   "source": [
    "print('Test accuracy: %.2f%%' % (compute_accuracy(model, test_loader)))"
   ]
  },
  {
   "cell_type": "markdown",
   "metadata": {
    "id": "QXTpUhtyfI2G"
   },
   "source": [
    "## ResNet with convolutional blocks for resizing"
   ]
  },
  {
   "cell_type": "markdown",
   "metadata": {
    "id": "TEIPtwuCfI2G"
   },
   "source": [
    "The following code implements the residual blocks with skip connections such that the input passed via the shortcut matches is resized to dimensions of the main path's output. Such a residual block is illustrated below:\n",
    "\n",
    "![](./2-resnet-ex/resnet-ex-1-2.png)"
   ]
  },
  {
   "cell_type": "code",
   "execution_count": 6,
   "metadata": {
    "id": "RU6YUPb1fI2H"
   },
   "outputs": [],
   "source": [
    "class ResidualBlock(torch.nn.Module):\n",
    "    \"\"\" Helper Class\"\"\"\n",
    "\n",
    "    def __init__(self, channels):\n",
    "        \n",
    "        super(ResidualBlock, self).__init__()\n",
    "        \n",
    "        self.block = torch.nn.Sequential(\n",
    "                torch.nn.Conv2d(in_channels=channels[0],\n",
    "                                out_channels=channels[1],\n",
    "                                kernel_size=(3, 3),\n",
    "                                stride=(2, 2),\n",
    "                                padding=1),\n",
    "                torch.nn.BatchNorm2d(channels[1]),\n",
    "                torch.nn.ReLU(inplace=True),\n",
    "                torch.nn.Conv2d(in_channels=channels[1],\n",
    "                                out_channels=channels[2],\n",
    "                                kernel_size=(1, 1),\n",
    "                                stride=(1, 1),\n",
    "                                padding=0),   \n",
    "                torch.nn.BatchNorm2d(channels[2])\n",
    "        )\n",
    "\n",
    "        self.shortcut = torch.nn.Sequential(\n",
    "                torch.nn.Conv2d(in_channels=channels[0],\n",
    "                                out_channels=channels[2],\n",
    "                                kernel_size=(1, 1),\n",
    "                                stride=(2, 2),\n",
    "                                padding=0),\n",
    "                torch.nn.BatchNorm2d(channels[2])\n",
    "        )\n",
    "            \n",
    "    def forward(self, x):\n",
    "        shortcut = x\n",
    "        \n",
    "        block = self.block(x)\n",
    "        shortcut = self.shortcut(x)    \n",
    "        x = torch.nn.functional.relu(block+shortcut)\n",
    "\n",
    "        return x"
   ]
  },
  {
   "cell_type": "code",
   "execution_count": 7,
   "metadata": {
    "id": "1RELKX1hfI2H"
   },
   "outputs": [],
   "source": [
    "##########################\n",
    "### MODEL\n",
    "##########################\n",
    "\n",
    "\n",
    "\n",
    "class ConvNet(torch.nn.Module):\n",
    "\n",
    "    def __init__(self, num_classes):\n",
    "        super(ConvNet, self).__init__()\n",
    "        \n",
    "        self.residual_block_1 = ResidualBlock(channels=[1, 4, 8])\n",
    "        self.residual_block_2 = ResidualBlock(channels=[8, 16, 32])\n",
    "    \n",
    "        self.linear_1 = torch.nn.Linear(7*7*32, num_classes)\n",
    "\n",
    "        \n",
    "    def forward(self, x):\n",
    "\n",
    "        out = self.residual_block_1(x)\n",
    "        out = self.residual_block_2(out)\n",
    "         \n",
    "        logits = self.linear_1(out.view(-1, 7*7*32))\n",
    "        return logits\n",
    "\n",
    "    \n",
    "torch.manual_seed(random_seed)\n",
    "model = ConvNet(num_classes=num_classes)\n",
    "\n",
    "model.to(device)\n",
    "optimizer = torch.optim.Adam(model.parameters(), lr=learning_rate)  "
   ]
  },
  {
   "cell_type": "markdown",
   "metadata": {
    "id": "s8kNK1gdfI2H"
   },
   "source": [
    "### Training"
   ]
  },
  {
   "cell_type": "code",
   "execution_count": 8,
   "metadata": {
    "id": "6CqFap5YfI2I",
    "outputId": "e18592b7-b872-4e67-bac5-1c74fb4051ce"
   },
   "outputs": [
    {
     "name": "stdout",
     "output_type": "stream",
     "text": [
      "Epoch: 001/010 | Batch 000/468 | Cost: 2.3534\n",
      "Epoch: 001/010 | Batch 050/468 | Cost: 0.2670\n",
      "Epoch: 001/010 | Batch 100/468 | Cost: 0.2470\n",
      "Epoch: 001/010 | Batch 150/468 | Cost: 0.1115\n",
      "Epoch: 001/010 | Batch 200/468 | Cost: 0.0617\n",
      "Epoch: 001/010 | Batch 250/468 | Cost: 0.1087\n",
      "Epoch: 001/010 | Batch 300/468 | Cost: 0.3041\n",
      "Epoch: 001/010 | Batch 350/468 | Cost: 0.1876\n",
      "Epoch: 001/010 | Batch 400/468 | Cost: 0.0520\n",
      "Epoch: 001/010 | Batch 450/468 | Cost: 0.1059\n",
      "Epoch: 001/010 training accuracy: 97.51%\n",
      "Epoch: 002/010 | Batch 000/468 | Cost: 0.0998\n",
      "Epoch: 002/010 | Batch 050/468 | Cost: 0.0484\n",
      "Epoch: 002/010 | Batch 100/468 | Cost: 0.0950\n",
      "Epoch: 002/010 | Batch 150/468 | Cost: 0.1352\n",
      "Epoch: 002/010 | Batch 200/468 | Cost: 0.0948\n",
      "Epoch: 002/010 | Batch 250/468 | Cost: 0.0383\n",
      "Epoch: 002/010 | Batch 300/468 | Cost: 0.0275\n",
      "Epoch: 002/010 | Batch 350/468 | Cost: 0.0345\n",
      "Epoch: 002/010 | Batch 400/468 | Cost: 0.0260\n",
      "Epoch: 002/010 | Batch 450/468 | Cost: 0.0941\n",
      "Epoch: 002/010 training accuracy: 98.50%\n",
      "Epoch: 003/010 | Batch 000/468 | Cost: 0.0335\n",
      "Epoch: 003/010 | Batch 050/468 | Cost: 0.0418\n",
      "Epoch: 003/010 | Batch 100/468 | Cost: 0.1691\n",
      "Epoch: 003/010 | Batch 150/468 | Cost: 0.0237\n",
      "Epoch: 003/010 | Batch 200/468 | Cost: 0.0529\n",
      "Epoch: 003/010 | Batch 250/468 | Cost: 0.0807\n",
      "Epoch: 003/010 | Batch 300/468 | Cost: 0.0149\n",
      "Epoch: 003/010 | Batch 350/468 | Cost: 0.0182\n",
      "Epoch: 003/010 | Batch 400/468 | Cost: 0.0753\n",
      "Epoch: 003/010 | Batch 450/468 | Cost: 0.0179\n",
      "Epoch: 003/010 training accuracy: 98.77%\n",
      "Epoch: 004/010 | Batch 000/468 | Cost: 0.0257\n",
      "Epoch: 004/010 | Batch 050/468 | Cost: 0.0227\n",
      "Epoch: 004/010 | Batch 100/468 | Cost: 0.0554\n",
      "Epoch: 004/010 | Batch 150/468 | Cost: 0.0468\n",
      "Epoch: 004/010 | Batch 200/468 | Cost: 0.0560\n",
      "Epoch: 004/010 | Batch 250/468 | Cost: 0.0191\n",
      "Epoch: 004/010 | Batch 300/468 | Cost: 0.0494\n",
      "Epoch: 004/010 | Batch 350/468 | Cost: 0.0248\n",
      "Epoch: 004/010 | Batch 400/468 | Cost: 0.0385\n",
      "Epoch: 004/010 | Batch 450/468 | Cost: 0.0343\n",
      "Epoch: 004/010 training accuracy: 98.65%\n",
      "Epoch: 005/010 | Batch 000/468 | Cost: 0.0492\n",
      "Epoch: 005/010 | Batch 050/468 | Cost: 0.0092\n",
      "Epoch: 005/010 | Batch 100/468 | Cost: 0.1016\n",
      "Epoch: 005/010 | Batch 150/468 | Cost: 0.0258\n",
      "Epoch: 005/010 | Batch 200/468 | Cost: 0.1001\n",
      "Epoch: 005/010 | Batch 250/468 | Cost: 0.0452\n",
      "Epoch: 005/010 | Batch 300/468 | Cost: 0.0150\n",
      "Epoch: 005/010 | Batch 350/468 | Cost: 0.0314\n",
      "Epoch: 005/010 | Batch 400/468 | Cost: 0.0111\n",
      "Epoch: 005/010 | Batch 450/468 | Cost: 0.0462\n",
      "Epoch: 005/010 training accuracy: 98.59%\n",
      "Epoch: 006/010 | Batch 000/468 | Cost: 0.0289\n",
      "Epoch: 006/010 | Batch 050/468 | Cost: 0.0199\n",
      "Epoch: 006/010 | Batch 100/468 | Cost: 0.0096\n",
      "Epoch: 006/010 | Batch 150/468 | Cost: 0.0345\n",
      "Epoch: 006/010 | Batch 200/468 | Cost: 0.0210\n",
      "Epoch: 006/010 | Batch 250/468 | Cost: 0.0604\n",
      "Epoch: 006/010 | Batch 300/468 | Cost: 0.0067\n",
      "Epoch: 006/010 | Batch 350/468 | Cost: 0.0060\n",
      "Epoch: 006/010 | Batch 400/468 | Cost: 0.0510\n",
      "Epoch: 006/010 | Batch 450/468 | Cost: 0.0425\n",
      "Epoch: 006/010 training accuracy: 99.12%\n",
      "Epoch: 007/010 | Batch 000/468 | Cost: 0.0354\n",
      "Epoch: 007/010 | Batch 050/468 | Cost: 0.0647\n",
      "Epoch: 007/010 | Batch 100/468 | Cost: 0.0103\n",
      "Epoch: 007/010 | Batch 150/468 | Cost: 0.0141\n",
      "Epoch: 007/010 | Batch 200/468 | Cost: 0.0260\n",
      "Epoch: 007/010 | Batch 250/468 | Cost: 0.0078\n",
      "Epoch: 007/010 | Batch 300/468 | Cost: 0.0388\n",
      "Epoch: 007/010 | Batch 350/468 | Cost: 0.1638\n",
      "Epoch: 007/010 | Batch 400/468 | Cost: 0.0104\n",
      "Epoch: 007/010 | Batch 450/468 | Cost: 0.0226\n",
      "Epoch: 007/010 training accuracy: 99.24%\n",
      "Epoch: 008/010 | Batch 000/468 | Cost: 0.0366\n",
      "Epoch: 008/010 | Batch 050/468 | Cost: 0.0527\n",
      "Epoch: 008/010 | Batch 100/468 | Cost: 0.0296\n",
      "Epoch: 008/010 | Batch 150/468 | Cost: 0.0367\n",
      "Epoch: 008/010 | Batch 200/468 | Cost: 0.1102\n",
      "Epoch: 008/010 | Batch 250/468 | Cost: 0.0116\n",
      "Epoch: 008/010 | Batch 300/468 | Cost: 0.0327\n",
      "Epoch: 008/010 | Batch 350/468 | Cost: 0.0419\n",
      "Epoch: 008/010 | Batch 400/468 | Cost: 0.0084\n",
      "Epoch: 008/010 | Batch 450/468 | Cost: 0.0200\n",
      "Epoch: 008/010 training accuracy: 99.26%\n",
      "Epoch: 009/010 | Batch 000/468 | Cost: 0.0173\n",
      "Epoch: 009/010 | Batch 050/468 | Cost: 0.0113\n",
      "Epoch: 009/010 | Batch 100/468 | Cost: 0.0163\n",
      "Epoch: 009/010 | Batch 150/468 | Cost: 0.0435\n",
      "Epoch: 009/010 | Batch 200/468 | Cost: 0.0096\n",
      "Epoch: 009/010 | Batch 250/468 | Cost: 0.0265\n",
      "Epoch: 009/010 | Batch 300/468 | Cost: 0.0842\n",
      "Epoch: 009/010 | Batch 350/468 | Cost: 0.0028\n",
      "Epoch: 009/010 | Batch 400/468 | Cost: 0.0712\n",
      "Epoch: 009/010 | Batch 450/468 | Cost: 0.0247\n",
      "Epoch: 009/010 training accuracy: 98.81%\n",
      "Epoch: 010/010 | Batch 000/468 | Cost: 0.0897\n",
      "Epoch: 010/010 | Batch 050/468 | Cost: 0.0040\n",
      "Epoch: 010/010 | Batch 100/468 | Cost: 0.0368\n",
      "Epoch: 010/010 | Batch 150/468 | Cost: 0.0460\n",
      "Epoch: 010/010 | Batch 200/468 | Cost: 0.0242\n",
      "Epoch: 010/010 | Batch 250/468 | Cost: 0.0074\n",
      "Epoch: 010/010 | Batch 300/468 | Cost: 0.0657\n",
      "Epoch: 010/010 | Batch 350/468 | Cost: 0.0343\n",
      "Epoch: 010/010 | Batch 400/468 | Cost: 0.0869\n",
      "Epoch: 010/010 | Batch 450/468 | Cost: 0.0043\n",
      "Epoch: 010/010 training accuracy: 99.12%\n"
     ]
    }
   ],
   "source": [
    "for epoch in range(num_epochs):\n",
    "    model = model.train()\n",
    "    for batch_idx, (features, targets) in enumerate(train_loader):\n",
    "        \n",
    "        features = features.to(device)\n",
    "        targets = targets.to(device)\n",
    "            \n",
    "        ### FORWARD AND BACK PROP\n",
    "        logits = model(features)\n",
    "        cost = torch.nn.functional.cross_entropy(logits, targets)\n",
    "        optimizer.zero_grad()\n",
    "        \n",
    "        cost.backward()\n",
    "        \n",
    "        ### UPDATE MODEL PARAMETERS\n",
    "        optimizer.step()\n",
    "        \n",
    "        ### LOGGING\n",
    "        if not batch_idx % 50:\n",
    "            print ('Epoch: %03d/%03d | Batch %03d/%03d | Cost: %.4f' \n",
    "                   %(epoch+1, num_epochs, batch_idx, \n",
    "                     len(train_dataset)//batch_size, cost))\n",
    "\n",
    "    model = model.eval() # eval mode to prevent upd. batchnorm params during inference\n",
    "    with torch.set_grad_enabled(False): # save memory during inference\n",
    "        print('Epoch: %03d/%03d training accuracy: %.2f%%' % (\n",
    "              epoch+1, num_epochs, \n",
    "              compute_accuracy(model, train_loader)))"
   ]
  },
  {
   "cell_type": "code",
   "execution_count": 9,
   "metadata": {
    "id": "wgjcbs5CfI2I",
    "outputId": "31168a31-f32a-4bff-9d01-77be42b07398"
   },
   "outputs": [
    {
     "name": "stdout",
     "output_type": "stream",
     "text": [
      "Test accuracy: 98.32%\n"
     ]
    }
   ],
   "source": [
    "print('Test accuracy: %.2f%%' % (compute_accuracy(model, test_loader)))"
   ]
  }
 ],
 "metadata": {
  "colab": {
   "name": "2-resnet-example.ipynb",
   "provenance": []
  },
  "kernelspec": {
   "display_name": "Pytorch",
   "language": "python",
   "name": "python3"
  },
  "language_info": {
   "codemirror_mode": {
    "name": "ipython",
    "version": 3
   },
   "file_extension": ".py",
   "mimetype": "text/x-python",
   "name": "python",
   "nbconvert_exporter": "python",
   "pygments_lexer": "ipython3",
   "version": "3.10.12"
  },
  "toc": {
   "nav_menu": {},
   "number_sections": true,
   "sideBar": true,
   "skip_h1_title": false,
   "title_cell": "Table of Contents",
   "title_sidebar": "Contents",
   "toc_cell": false,
   "toc_position": {},
   "toc_section_display": true,
   "toc_window_display": true
  }
 },
 "nbformat": 4,
 "nbformat_minor": 4
}
