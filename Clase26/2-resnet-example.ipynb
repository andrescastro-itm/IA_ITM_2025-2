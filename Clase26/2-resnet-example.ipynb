{
 "cells": [
  {
   "cell_type": "markdown",
   "metadata": {
    "id": "bK92ZaV0fI14"
   },
   "source": [
    "Thanks to: Sebastian Raschka (sraschka@wisc.edu)  \n",
    "\n",
    "---\n",
    "<a href=\"https://colab.research.google.com/github/andrescastro-itm/IA_ITM_2025-2/blob/main/Clase26/2-resnet-example.ipynb\" target=\"_parent\"><img src=\"https://colab.research.google.com/assets/colab-badge.svg\" alt=\"Open In Colab\"/></a>"
   ]
  },
  {
   "cell_type": "markdown",
   "metadata": {
    "id": "oLZdegDFfI2A"
   },
   "source": [
    "# A Convolutional ResNet and Residual Blocks"
   ]
  },
  {
   "cell_type": "markdown",
   "metadata": {
    "id": "DRNVCQQTfI2B"
   },
   "source": [
    "Please note that this example does not implement a really deep ResNet as described in literature but rather illustrates how the residual blocks described in He et al. [1] can be implemented in PyTorch.\n",
    "\n",
    "- [1] He, Kaiming, et al. \"Deep residual learning for image recognition.\" *Proceedings of the IEEE conference on computer vision and pattern recognition*. 2016."
   ]
  },
  {
   "cell_type": "markdown",
   "metadata": {
    "id": "IQp8SrNhfI2B"
   },
   "source": [
    "## Imports"
   ]
  },
  {
   "cell_type": "code",
   "execution_count": 1,
   "metadata": {
    "id": "vLkktw_SfI2C"
   },
   "outputs": [],
   "source": [
    "import time\n",
    "import numpy as np\n",
    "import torch\n",
    "from torch.utils.data import DataLoader\n",
    "from torchvision import datasets\n",
    "from torchvision import transforms"
   ]
  },
  {
   "cell_type": "markdown",
   "metadata": {
    "id": "ao13dn1XfI2C"
   },
   "source": [
    "## Settings and Dataset"
   ]
  },
  {
   "cell_type": "code",
   "execution_count": null,
   "metadata": {
    "id": "uuY5jX-EfI2C",
    "outputId": "f3fe261c-dbbc-4829-ceee-3376600bb648"
   },
   "outputs": [],
   "source": [
    "##########################\n",
    "### SETTINGS\n",
    "##########################\n",
    "\n",
    "# Device\n",
    "device = torch.device(\"cuda:0\" if torch.cuda.is_available() else \"cpu\")\n",
    "\n",
    "# Hyperparameters\n",
    "random_seed = 123\n",
    "learning_rate = 0.01\n",
    "num_epochs = 10\n",
    "batch_size = 128\n",
    "\n",
    "# Architecture\n",
    "num_classes = 10\n",
    "\n",
    "\n",
    "##########################\n",
    "### MNIST DATASET\n",
    "##########################\n",
    "\n",
    "# Note transforms.ToTensor() scales input images\n",
    "# to 0-1 range\n",
    "train_dataset = datasets.MNIST(root='data', \n",
    "                               train=True, \n",
    "                               transform=transforms.ToTensor(),\n",
    "                               download=True)\n",
    "\n",
    "test_dataset = datasets.MNIST(root='data', \n",
    "                              train=False, \n",
    "                              transform=transforms.ToTensor())\n",
    "\n",
    "\n",
    "train_loader = DataLoader(dataset=train_dataset, \n",
    "                          batch_size=batch_size, \n",
    "                          shuffle=True)\n",
    "\n",
    "test_loader = DataLoader(dataset=test_dataset, \n",
    "                         batch_size=batch_size, \n",
    "                         shuffle=False)\n",
    "\n",
    "# Checking the dataset\n",
    "for images, labels in train_loader:  \n",
    "    print('Image batch dimensions:', images.shape)\n",
    "    print('Image label dimensions:', labels.shape)\n",
    "    break"
   ]
  },
  {
   "cell_type": "markdown",
   "metadata": {
    "id": "AseMsnyrfI2D"
   },
   "source": [
    "## ResNet with identity blocks"
   ]
  },
  {
   "cell_type": "markdown",
   "metadata": {
    "id": "u1LH9xyBfI2E"
   },
   "source": [
    "The following code implements the residual blocks with skip connections such that the input passed via the shortcut matches the dimensions of the main path's output, which allows the network to learn identity functions. Such a residual block is illustrated below:\n",
    "\n",
    "![](./2-resnet-ex/resnet-ex-1-1.png)"
   ]
  },
  {
   "cell_type": "code",
   "execution_count": 3,
   "metadata": {
    "id": "HI4vlSv2fI2F",
    "tags": []
   },
   "outputs": [],
   "source": [
    "##########################\n",
    "### MODEL\n",
    "##########################\n",
    "\n",
    "\n",
    "class ConvNet(torch.nn.Module):\n",
    "\n",
    "    def __init__(self, num_classes):\n",
    "        super(ConvNet, self).__init__()\n",
    "        \n",
    "        #########################\n",
    "        ### 1st residual block\n",
    "        #########################\n",
    "        \n",
    "        self.block_1 = torch.nn.Sequential(\n",
    "                torch.nn.Conv2d(in_channels=1,\n",
    "                                out_channels=4,\n",
    "                                kernel_size=(1, 1),\n",
    "                                stride=(1, 1),\n",
    "                                padding=0),\n",
    "                torch.nn.BatchNorm2d(4),\n",
    "                torch.nn.ReLU(inplace=True),\n",
    "                torch.nn.Conv2d(in_channels=4,\n",
    "                                out_channels=1,\n",
    "                                kernel_size=(3, 3),\n",
    "                                stride=(1, 1),\n",
    "                                padding=1),\n",
    "                torch.nn.BatchNorm2d(1)\n",
    "        )\n",
    "        \n",
    "        self.block_2 = torch.nn.Sequential(\n",
    "                torch.nn.Conv2d(in_channels=1,\n",
    "                                out_channels=4,\n",
    "                                kernel_size=(1, 1),\n",
    "                                stride=(1, 1),\n",
    "                                padding=0),\n",
    "                torch.nn.BatchNorm2d(4),\n",
    "                torch.nn.ReLU(inplace=True),\n",
    "                torch.nn.Conv2d(in_channels=4,\n",
    "                                out_channels=1,\n",
    "                                kernel_size=(3, 3),\n",
    "                                stride=(1, 1),\n",
    "                                padding=1),\n",
    "                torch.nn.BatchNorm2d(1)\n",
    "        )\n",
    "\n",
    "        #########################\n",
    "        ### Fully connected\n",
    "        #########################        \n",
    "        self.linear_1 = torch.nn.Linear(1*28*28, num_classes)\n",
    "\n",
    "        \n",
    "    def forward(self, x):\n",
    "        \n",
    "        #########################\n",
    "        ### 1st residual block\n",
    "        #########################\n",
    "        shortcut = x.clone()\n",
    "        x = self.block_1(x)\n",
    "        x = torch.nn.functional.relu(x + shortcut)\n",
    "        \n",
    "        #########################\n",
    "        ### 2nd residual block\n",
    "        #########################\n",
    "        shortcut = x.clone()\n",
    "        x = self.block_2(x)\n",
    "        x = torch.nn.functional.relu(x + shortcut)\n",
    "        \n",
    "        #########################\n",
    "        ### Fully connected\n",
    "        #########################\n",
    "        logits = self.linear_1(x.view(-1,  1*28*28))\n",
    "        return logits\n",
    "\n",
    "    \n",
    "torch.manual_seed(random_seed)\n",
    "model = ConvNet(num_classes=num_classes)\n",
    "model = model.to(device)\n",
    "    \n",
    "optimizer = torch.optim.Adam(model.parameters(), lr=learning_rate)  "
   ]
  },
  {
   "cell_type": "markdown",
   "metadata": {
    "id": "i_j-L2oSfI2F"
   },
   "source": [
    "### Training"
   ]
  },
  {
   "cell_type": "code",
   "execution_count": 4,
   "metadata": {
    "id": "v4_kA7ILfI2F",
    "outputId": "38adf70b-f946-4f73-fb26-a67c1ca2833e"
   },
   "outputs": [
    {
     "name": "stdout",
     "output_type": "stream",
     "text": [
      "Epoch: 001/010 | Batch 000/469 | Cost: 2.6800\n",
      "Epoch: 001/010 | Batch 250/469 | Cost: 0.3161\n",
      "Epoch: 001/010 training accuracy: 90.81%\n",
      "Time elapsed: 0.32 min\n",
      "Epoch: 002/010 | Batch 000/469 | Cost: 0.3239\n",
      "Epoch: 002/010 | Batch 250/469 | Cost: 0.2029\n",
      "Epoch: 002/010 training accuracy: 91.14%\n",
      "Time elapsed: 0.63 min\n",
      "Epoch: 003/010 | Batch 000/469 | Cost: 0.2073\n",
      "Epoch: 003/010 | Batch 250/469 | Cost: 0.2703\n",
      "Epoch: 003/010 training accuracy: 92.51%\n",
      "Time elapsed: 0.93 min\n",
      "Epoch: 004/010 | Batch 000/469 | Cost: 0.2799\n",
      "Epoch: 004/010 | Batch 250/469 | Cost: 0.2954\n",
      "Epoch: 004/010 training accuracy: 93.06%\n",
      "Time elapsed: 1.22 min\n",
      "Epoch: 005/010 | Batch 000/469 | Cost: 0.3492\n",
      "Epoch: 005/010 | Batch 250/469 | Cost: 0.2741\n",
      "Epoch: 005/010 training accuracy: 93.07%\n",
      "Time elapsed: 1.52 min\n",
      "Epoch: 006/010 | Batch 000/469 | Cost: 0.2634\n",
      "Epoch: 006/010 | Batch 250/469 | Cost: 0.2407\n",
      "Epoch: 006/010 training accuracy: 93.03%\n",
      "Time elapsed: 1.83 min\n",
      "Epoch: 007/010 | Batch 000/469 | Cost: 0.1987\n",
      "Epoch: 007/010 | Batch 250/469 | Cost: 0.1496\n",
      "Epoch: 007/010 training accuracy: 93.24%\n",
      "Time elapsed: 2.12 min\n",
      "Epoch: 008/010 | Batch 000/469 | Cost: 0.3842\n",
      "Epoch: 008/010 | Batch 250/469 | Cost: 0.3002\n",
      "Epoch: 008/010 training accuracy: 93.41%\n",
      "Time elapsed: 2.42 min\n",
      "Epoch: 009/010 | Batch 000/469 | Cost: 0.2101\n",
      "Epoch: 009/010 | Batch 250/469 | Cost: 0.1693\n",
      "Epoch: 009/010 training accuracy: 93.63%\n",
      "Time elapsed: 2.72 min\n",
      "Epoch: 010/010 | Batch 000/469 | Cost: 0.1510\n",
      "Epoch: 010/010 | Batch 250/469 | Cost: 0.2967\n",
      "Epoch: 010/010 training accuracy: 93.65%\n",
      "Time elapsed: 3.02 min\n",
      "Total Training Time: 3.02 min\n"
     ]
    }
   ],
   "source": [
    "def compute_accuracy(model, data_loader):\n",
    "    correct_pred, num_examples = 0, 0\n",
    "    for i, (features, targets) in enumerate(data_loader):            \n",
    "        features = features.to(device)\n",
    "        targets = targets.to(device)\n",
    "        logits = model(features)\n",
    "        _, predicted_labels = torch.max(logits, 1)\n",
    "        num_examples += targets.size(0)\n",
    "        correct_pred += (predicted_labels == targets).sum()\n",
    "    return correct_pred.float()/num_examples * 100\n",
    "\n",
    "\n",
    "start_time = time.time()\n",
    "for epoch in range(num_epochs):\n",
    "    model = model.train()\n",
    "    for batch_idx, (features, targets) in enumerate(train_loader):\n",
    "        \n",
    "        features = features.to(device)\n",
    "        targets = targets.to(device)\n",
    "        \n",
    "        ### FORWARD AND BACK PROP\n",
    "        logits = model(features)\n",
    "        cost = torch.nn.functional.cross_entropy(logits, targets)\n",
    "        optimizer.zero_grad()\n",
    "        \n",
    "        cost.backward()\n",
    "        \n",
    "        ### UPDATE MODEL PARAMETERS\n",
    "        optimizer.step()\n",
    "        \n",
    "        ### LOGGING\n",
    "        if not batch_idx % 250:\n",
    "            print ('Epoch: %03d/%03d | Batch %03d/%03d | Cost: %.4f' \n",
    "                   %(epoch+1, num_epochs, batch_idx, \n",
    "                     len(train_loader), cost))\n",
    "\n",
    "    model = model.eval() # eval mode to prevent upd. batchnorm params during inference\n",
    "    with torch.set_grad_enabled(False): # save memory during inference\n",
    "        print('Epoch: %03d/%03d training accuracy: %.2f%%' % (\n",
    "              epoch+1, num_epochs, \n",
    "              compute_accuracy(model, train_loader)))\n",
    "\n",
    "    print('Time elapsed: %.2f min' % ((time.time() - start_time)/60))\n",
    "    \n",
    "print('Total Training Time: %.2f min' % ((time.time() - start_time)/60))"
   ]
  },
  {
   "cell_type": "code",
   "execution_count": 5,
   "metadata": {
    "id": "bIWtewOIfI2G",
    "outputId": "822c162f-8683-435a-8956-dbc93b0a051e"
   },
   "outputs": [
    {
     "name": "stdout",
     "output_type": "stream",
     "text": [
      "Test accuracy: 92.27%\n"
     ]
    }
   ],
   "source": [
    "print('Test accuracy: %.2f%%' % (compute_accuracy(model, test_loader)))"
   ]
  },
  {
   "cell_type": "markdown",
   "metadata": {
    "id": "QXTpUhtyfI2G"
   },
   "source": [
    "## ResNet with convolutional blocks for resizing"
   ]
  },
  {
   "cell_type": "markdown",
   "metadata": {
    "id": "TEIPtwuCfI2G"
   },
   "source": [
    "The following code implements the residual blocks with skip connections such that the input passed via the shortcut matches is resized to dimensions of the main path's output. Such a residual block is illustrated below:\n",
    "\n",
    "![](./2-resnet-ex/resnet-ex-1-2.png)"
   ]
  },
  {
   "cell_type": "code",
   "execution_count": 6,
   "metadata": {
    "id": "RU6YUPb1fI2H"
   },
   "outputs": [],
   "source": [
    "class ResidualBlock(torch.nn.Module):\n",
    "    \"\"\" Helper Class\"\"\"\n",
    "\n",
    "    def __init__(self, channels):\n",
    "        \n",
    "        super(ResidualBlock, self).__init__()\n",
    "        \n",
    "        self.block = torch.nn.Sequential(\n",
    "                torch.nn.Conv2d(in_channels=channels[0],\n",
    "                                out_channels=channels[1],\n",
    "                                kernel_size=(3, 3),\n",
    "                                stride=(2, 2),\n",
    "                                padding=1),\n",
    "                torch.nn.BatchNorm2d(channels[1]),\n",
    "                torch.nn.ReLU(inplace=True),\n",
    "                torch.nn.Conv2d(in_channels=channels[1],\n",
    "                                out_channels=channels[2],\n",
    "                                kernel_size=(1, 1),\n",
    "                                stride=(1, 1),\n",
    "                                padding=0),   \n",
    "                torch.nn.BatchNorm2d(channels[2])\n",
    "        )\n",
    "\n",
    "        self.shortcut = torch.nn.Sequential(\n",
    "                torch.nn.Conv2d(in_channels=channels[0],\n",
    "                                out_channels=channels[2],\n",
    "                                kernel_size=(1, 1),\n",
    "                                stride=(2, 2),\n",
    "                                padding=0),\n",
    "                torch.nn.BatchNorm2d(channels[2])\n",
    "        )\n",
    "            \n",
    "    def forward(self, x):\n",
    "        shortcut = x\n",
    "        \n",
    "        block = self.block(x)\n",
    "        shortcut = self.shortcut(x)    \n",
    "        x = torch.nn.functional.relu(block+shortcut)\n",
    "\n",
    "        return x"
   ]
  },
  {
   "cell_type": "code",
   "execution_count": 7,
   "metadata": {
    "id": "1RELKX1hfI2H"
   },
   "outputs": [],
   "source": [
    "##########################\n",
    "### MODEL\n",
    "##########################\n",
    "\n",
    "\n",
    "\n",
    "class ConvNet(torch.nn.Module):\n",
    "\n",
    "    def __init__(self, num_classes):\n",
    "        super(ConvNet, self).__init__()\n",
    "        \n",
    "        self.residual_block_1 = ResidualBlock(channels=[1, 4, 8])\n",
    "        self.residual_block_2 = ResidualBlock(channels=[8, 16, 32])\n",
    "    \n",
    "        self.linear_1 = torch.nn.Linear(7*7*32, num_classes)\n",
    "\n",
    "        \n",
    "    def forward(self, x):\n",
    "\n",
    "        out = self.residual_block_1(x)\n",
    "        out = self.residual_block_2(out)\n",
    "         \n",
    "        logits = self.linear_1(out.view(-1, 7*7*32))\n",
    "        return logits\n",
    "\n",
    "    \n",
    "torch.manual_seed(random_seed)\n",
    "model = ConvNet(num_classes=num_classes)\n",
    "\n",
    "model.to(device)\n",
    "optimizer = torch.optim.Adam(model.parameters(), lr=learning_rate)  "
   ]
  },
  {
   "cell_type": "markdown",
   "metadata": {
    "id": "s8kNK1gdfI2H"
   },
   "source": [
    "### Training"
   ]
  },
  {
   "cell_type": "code",
   "execution_count": 8,
   "metadata": {
    "id": "6CqFap5YfI2I",
    "outputId": "e18592b7-b872-4e67-bac5-1c74fb4051ce"
   },
   "outputs": [
    {
     "name": "stdout",
     "output_type": "stream",
     "text": [
      "Epoch: 001/010 | Batch 000/468 | Cost: 2.3534\n",
      "Epoch: 001/010 | Batch 050/468 | Cost: 0.2670\n",
      "Epoch: 001/010 | Batch 100/468 | Cost: 0.2480\n",
      "Epoch: 001/010 | Batch 150/468 | Cost: 0.1079\n",
      "Epoch: 001/010 | Batch 200/468 | Cost: 0.0685\n",
      "Epoch: 001/010 | Batch 250/468 | Cost: 0.1200\n",
      "Epoch: 001/010 | Batch 300/468 | Cost: 0.3039\n",
      "Epoch: 001/010 | Batch 350/468 | Cost: 0.1717\n",
      "Epoch: 001/010 | Batch 400/468 | Cost: 0.0545\n",
      "Epoch: 001/010 | Batch 450/468 | Cost: 0.1242\n",
      "Epoch: 001/010 training accuracy: 97.38%\n",
      "Epoch: 002/010 | Batch 000/468 | Cost: 0.0989\n",
      "Epoch: 002/010 | Batch 050/468 | Cost: 0.0609\n",
      "Epoch: 002/010 | Batch 100/468 | Cost: 0.0941\n",
      "Epoch: 002/010 | Batch 150/468 | Cost: 0.1320\n",
      "Epoch: 002/010 | Batch 200/468 | Cost: 0.0961\n",
      "Epoch: 002/010 | Batch 250/468 | Cost: 0.0288\n",
      "Epoch: 002/010 | Batch 300/468 | Cost: 0.0360\n",
      "Epoch: 002/010 | Batch 350/468 | Cost: 0.0460\n",
      "Epoch: 002/010 | Batch 400/468 | Cost: 0.0159\n",
      "Epoch: 002/010 | Batch 450/468 | Cost: 0.0818\n",
      "Epoch: 002/010 training accuracy: 98.44%\n",
      "Epoch: 003/010 | Batch 000/468 | Cost: 0.0425\n",
      "Epoch: 003/010 | Batch 050/468 | Cost: 0.0477\n",
      "Epoch: 003/010 | Batch 100/468 | Cost: 0.1680\n",
      "Epoch: 003/010 | Batch 150/468 | Cost: 0.0190\n",
      "Epoch: 003/010 | Batch 200/468 | Cost: 0.0640\n",
      "Epoch: 003/010 | Batch 250/468 | Cost: 0.0608\n",
      "Epoch: 003/010 | Batch 300/468 | Cost: 0.0282\n",
      "Epoch: 003/010 | Batch 350/468 | Cost: 0.0107\n",
      "Epoch: 003/010 | Batch 400/468 | Cost: 0.0746\n",
      "Epoch: 003/010 | Batch 450/468 | Cost: 0.0184\n",
      "Epoch: 003/010 training accuracy: 98.57%\n",
      "Epoch: 004/010 | Batch 000/468 | Cost: 0.0359\n",
      "Epoch: 004/010 | Batch 050/468 | Cost: 0.0358\n",
      "Epoch: 004/010 | Batch 100/468 | Cost: 0.0743\n",
      "Epoch: 004/010 | Batch 150/468 | Cost: 0.0833\n",
      "Epoch: 004/010 | Batch 200/468 | Cost: 0.0578\n",
      "Epoch: 004/010 | Batch 250/468 | Cost: 0.0213\n",
      "Epoch: 004/010 | Batch 300/468 | Cost: 0.0641\n",
      "Epoch: 004/010 | Batch 350/468 | Cost: 0.0353\n",
      "Epoch: 004/010 | Batch 400/468 | Cost: 0.0351\n",
      "Epoch: 004/010 | Batch 450/468 | Cost: 0.0180\n",
      "Epoch: 004/010 training accuracy: 98.75%\n",
      "Epoch: 005/010 | Batch 000/468 | Cost: 0.0507\n",
      "Epoch: 005/010 | Batch 050/468 | Cost: 0.0096\n",
      "Epoch: 005/010 | Batch 100/468 | Cost: 0.1018\n",
      "Epoch: 005/010 | Batch 150/468 | Cost: 0.0581\n",
      "Epoch: 005/010 | Batch 200/468 | Cost: 0.0610\n",
      "Epoch: 005/010 | Batch 250/468 | Cost: 0.0381\n",
      "Epoch: 005/010 | Batch 300/468 | Cost: 0.0370\n",
      "Epoch: 005/010 | Batch 350/468 | Cost: 0.0241\n",
      "Epoch: 005/010 | Batch 400/468 | Cost: 0.0073\n",
      "Epoch: 005/010 | Batch 450/468 | Cost: 0.0565\n",
      "Epoch: 005/010 training accuracy: 98.86%\n",
      "Epoch: 006/010 | Batch 000/468 | Cost: 0.0594\n",
      "Epoch: 006/010 | Batch 050/468 | Cost: 0.0231\n",
      "Epoch: 006/010 | Batch 100/468 | Cost: 0.0074\n",
      "Epoch: 006/010 | Batch 150/468 | Cost: 0.0576\n",
      "Epoch: 006/010 | Batch 200/468 | Cost: 0.0241\n",
      "Epoch: 006/010 | Batch 250/468 | Cost: 0.0552\n",
      "Epoch: 006/010 | Batch 300/468 | Cost: 0.0022\n",
      "Epoch: 006/010 | Batch 350/468 | Cost: 0.0133\n",
      "Epoch: 006/010 | Batch 400/468 | Cost: 0.0247\n",
      "Epoch: 006/010 | Batch 450/468 | Cost: 0.0408\n",
      "Epoch: 006/010 training accuracy: 99.15%\n",
      "Epoch: 007/010 | Batch 000/468 | Cost: 0.0137\n",
      "Epoch: 007/010 | Batch 050/468 | Cost: 0.0200\n",
      "Epoch: 007/010 | Batch 100/468 | Cost: 0.0144\n",
      "Epoch: 007/010 | Batch 150/468 | Cost: 0.0095\n",
      "Epoch: 007/010 | Batch 200/468 | Cost: 0.0380\n",
      "Epoch: 007/010 | Batch 250/468 | Cost: 0.0050\n",
      "Epoch: 007/010 | Batch 300/468 | Cost: 0.0491\n",
      "Epoch: 007/010 | Batch 350/468 | Cost: 0.1709\n",
      "Epoch: 007/010 | Batch 400/468 | Cost: 0.0113\n",
      "Epoch: 007/010 | Batch 450/468 | Cost: 0.0475\n",
      "Epoch: 007/010 training accuracy: 98.39%\n",
      "Epoch: 008/010 | Batch 000/468 | Cost: 0.0134\n",
      "Epoch: 008/010 | Batch 050/468 | Cost: 0.0647\n",
      "Epoch: 008/010 | Batch 100/468 | Cost: 0.0073\n",
      "Epoch: 008/010 | Batch 150/468 | Cost: 0.0270\n",
      "Epoch: 008/010 | Batch 200/468 | Cost: 0.0886\n",
      "Epoch: 008/010 | Batch 250/468 | Cost: 0.0021\n",
      "Epoch: 008/010 | Batch 300/468 | Cost: 0.0152\n",
      "Epoch: 008/010 | Batch 350/468 | Cost: 0.0592\n",
      "Epoch: 008/010 | Batch 400/468 | Cost: 0.0112\n",
      "Epoch: 008/010 | Batch 450/468 | Cost: 0.0136\n",
      "Epoch: 008/010 training accuracy: 98.99%\n",
      "Epoch: 009/010 | Batch 000/468 | Cost: 0.0101\n",
      "Epoch: 009/010 | Batch 050/468 | Cost: 0.0177\n",
      "Epoch: 009/010 | Batch 100/468 | Cost: 0.0128\n",
      "Epoch: 009/010 | Batch 150/468 | Cost: 0.0710\n",
      "Epoch: 009/010 | Batch 200/468 | Cost: 0.0033\n",
      "Epoch: 009/010 | Batch 250/468 | Cost: 0.0171\n",
      "Epoch: 009/010 | Batch 300/468 | Cost: 0.0270\n",
      "Epoch: 009/010 | Batch 350/468 | Cost: 0.0064\n",
      "Epoch: 009/010 | Batch 400/468 | Cost: 0.0244\n",
      "Epoch: 009/010 | Batch 450/468 | Cost: 0.0196\n",
      "Epoch: 009/010 training accuracy: 99.00%\n",
      "Epoch: 010/010 | Batch 000/468 | Cost: 0.0595\n",
      "Epoch: 010/010 | Batch 050/468 | Cost: 0.0022\n",
      "Epoch: 010/010 | Batch 100/468 | Cost: 0.0225\n",
      "Epoch: 010/010 | Batch 150/468 | Cost: 0.0157\n",
      "Epoch: 010/010 | Batch 200/468 | Cost: 0.0163\n",
      "Epoch: 010/010 | Batch 250/468 | Cost: 0.0130\n",
      "Epoch: 010/010 | Batch 300/468 | Cost: 0.0423\n",
      "Epoch: 010/010 | Batch 350/468 | Cost: 0.0175\n",
      "Epoch: 010/010 | Batch 400/468 | Cost: 0.0913\n",
      "Epoch: 010/010 | Batch 450/468 | Cost: 0.0206\n",
      "Epoch: 010/010 training accuracy: 99.30%\n"
     ]
    }
   ],
   "source": [
    "for epoch in range(num_epochs):\n",
    "    model = model.train()\n",
    "    for batch_idx, (features, targets) in enumerate(train_loader):\n",
    "        \n",
    "        features = features.to(device)\n",
    "        targets = targets.to(device)\n",
    "            \n",
    "        ### FORWARD AND BACK PROP\n",
    "        logits = model(features)\n",
    "        cost = torch.nn.functional.cross_entropy(logits, targets)\n",
    "        optimizer.zero_grad()\n",
    "        \n",
    "        cost.backward()\n",
    "        \n",
    "        ### UPDATE MODEL PARAMETERS\n",
    "        optimizer.step()\n",
    "        \n",
    "        ### LOGGING\n",
    "        if not batch_idx % 50:\n",
    "            print ('Epoch: %03d/%03d | Batch %03d/%03d | Cost: %.4f' \n",
    "                   %(epoch+1, num_epochs, batch_idx, \n",
    "                     len(train_dataset)//batch_size, cost))\n",
    "\n",
    "    model = model.eval() # eval mode to prevent upd. batchnorm params during inference\n",
    "    with torch.set_grad_enabled(False): # save memory during inference\n",
    "        print('Epoch: %03d/%03d training accuracy: %.2f%%' % (\n",
    "              epoch+1, num_epochs, \n",
    "              compute_accuracy(model, train_loader)))"
   ]
  },
  {
   "cell_type": "code",
   "execution_count": 9,
   "metadata": {
    "id": "wgjcbs5CfI2I",
    "outputId": "31168a31-f32a-4bff-9d01-77be42b07398"
   },
   "outputs": [
    {
     "name": "stdout",
     "output_type": "stream",
     "text": [
      "Test accuracy: 98.13%\n"
     ]
    }
   ],
   "source": [
    "print('Test accuracy: %.2f%%' % (compute_accuracy(model, test_loader)))"
   ]
  }
 ],
 "metadata": {
  "colab": {
   "name": "2-resnet-example.ipynb",
   "provenance": []
  },
  "kernelspec": {
   "display_name": "IA_ITM",
   "language": "python",
   "name": "python3"
  },
  "language_info": {
   "codemirror_mode": {
    "name": "ipython",
    "version": 3
   },
   "file_extension": ".py",
   "mimetype": "text/x-python",
   "name": "python",
   "nbconvert_exporter": "python",
   "pygments_lexer": "ipython3",
   "version": "3.10.12"
  },
  "toc": {
   "nav_menu": {},
   "number_sections": true,
   "sideBar": true,
   "skip_h1_title": false,
   "title_cell": "Table of Contents",
   "title_sidebar": "Contents",
   "toc_cell": false,
   "toc_position": {},
   "toc_section_display": true,
   "toc_window_display": true
  }
 },
 "nbformat": 4,
 "nbformat_minor": 4
}
